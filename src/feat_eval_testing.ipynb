{
 "cells": [
  {
   "attachments": {},
   "cell_type": "markdown",
   "metadata": {},
   "source": [
    "# Feature evaluation testing\n",
    "\n",
    "TODO: check TuRF implementation\n",
    "\n",
    "TODO: evaluate rankings for small subsets"
   ]
  },
  {
   "cell_type": "code",
   "execution_count": null,
   "metadata": {},
   "outputs": [],
   "source": [
    "# import helper_functions\n",
    "# import pandas as pd\n",
    "# import numpy as np\n",
    "# import ReliefF\n",
    "# import reliefe\n",
    "# from sklearn.pipeline import make_pipeline\n",
    "# from skrebate import SURF\n",
    "# from sklearn.ensemble import RandomForestClassifier\n",
    "# from sklearn.model_selection import cross_val_score\n",
    "# from sklearn.linear_model import LinearRegression\n",
    "# from sklearn.neighbors import KNeighborsClassifier\n",
    "# from sklearn.inspection import permutation_importance\n",
    "# from sklearn.feature_selection import SelectKBest\n",
    "# from sklearn.feature_selection import chi2\n"
   ]
  },
  {
   "cell_type": "code",
   "execution_count": null,
   "metadata": {},
   "outputs": [],
   "source": [
    "from rank_eval_pipeline import RankEval\n",
    "import rank_algos\n",
    "import pandas as pd"
   ]
  },
  {
   "cell_type": "code",
   "execution_count": null,
   "metadata": {},
   "outputs": [],
   "source": [
    "data = pd.read_csv('data/full_data.csv')\n",
    "subsampling = 0.001"
   ]
  },
  {
   "cell_type": "markdown",
   "metadata": {},
   "source": [
    "### reliefF"
   ]
  },
  {
   "cell_type": "code",
   "execution_count": null,
   "metadata": {},
   "outputs": [],
   "source": [
    "RE = RankEval(data, rank_method=rank_algos.ReliefF_score, seed=0, subsampling_proportion=subsampling)\n",
    "RE.get_scores()"
   ]
  },
  {
   "attachments": {},
   "cell_type": "markdown",
   "metadata": {},
   "source": [
    "### SURF"
   ]
  },
  {
   "cell_type": "code",
   "execution_count": null,
   "metadata": {},
   "outputs": [],
   "source": [
    "RE = RankEval(data, rank_method=rank_algos.SURF_score, seed=0, subsampling_proportion=subsampling)\n",
    "RE.get_scores()"
   ]
  },
  {
   "attachments": {},
   "cell_type": "markdown",
   "metadata": {},
   "source": [
    "### SURF*"
   ]
  },
  {
   "cell_type": "code",
   "execution_count": null,
   "metadata": {},
   "outputs": [],
   "source": [
    "RE = RankEval(data, rank_method=rank_algos.SURFstar_score, seed=0, subsampling_proportion=subsampling)\n",
    "RE.get_scores()"
   ]
  },
  {
   "cell_type": "markdown",
   "metadata": {},
   "source": [
    "### MultiSURF"
   ]
  },
  {
   "cell_type": "code",
   "execution_count": null,
   "metadata": {},
   "outputs": [],
   "source": [
    "RE = RankEval(data, rank_method=rank_algos.MultiSURF_score, seed=0, subsampling_proportion=subsampling)\n",
    "RE.get_scores()"
   ]
  },
  {
   "cell_type": "markdown",
   "metadata": {},
   "source": [
    "### MultiSURFstar"
   ]
  },
  {
   "cell_type": "code",
   "execution_count": null,
   "metadata": {},
   "outputs": [],
   "source": [
    "RE = RankEval(data, rank_method=rank_algos.MultiSURFstar_score, seed=0, subsampling_proportion=subsampling)\n",
    "RE.get_scores()"
   ]
  },
  {
   "attachments": {},
   "cell_type": "markdown",
   "metadata": {},
   "source": [
    "### reliefE"
   ]
  },
  {
   "cell_type": "code",
   "execution_count": null,
   "metadata": {},
   "outputs": [],
   "source": [
    "RE = RankEval(data, rank_method=rank_algos.ReliefE_score, seed=0, subsampling_proportion=subsampling)\n",
    "RE.get_scores()"
   ]
  },
  {
   "cell_type": "markdown",
   "metadata": {},
   "source": [
    "### XGBoost"
   ]
  },
  {
   "cell_type": "code",
   "execution_count": null,
   "metadata": {},
   "outputs": [],
   "source": [
    "RE = RankEval(data, rank_method=rank_algos.xgboost_score, seed=0, subsampling_proportion=subsampling)\n",
    "RE.get_scores()"
   ]
  },
  {
   "cell_type": "markdown",
   "metadata": {},
   "source": [
    "### Random Forest Classifier"
   ]
  },
  {
   "cell_type": "code",
   "execution_count": null,
   "metadata": {},
   "outputs": [],
   "source": [
    "RE = RankEval(data, rank_method=rank_algos.random_forest_score, seed=0, subsampling_proportion=subsampling)\n",
    "RE.get_scores()"
   ]
  },
  {
   "cell_type": "markdown",
   "metadata": {},
   "source": [
    "### Chi-Squared"
   ]
  },
  {
   "cell_type": "code",
   "execution_count": null,
   "metadata": {},
   "outputs": [],
   "source": [
    "RE = RankEval(data, rank_method=rank_algos.chi2_score, seed=0, subsampling_proportion=subsampling)\n",
    "RE.get_scores()"
   ]
  },
  {
   "cell_type": "markdown",
   "metadata": {},
   "source": [
    "### Permutation Importance\n",
    "Problem is we need to build a model, which means choosing a model."
   ]
  },
  {
   "cell_type": "code",
   "execution_count": null,
   "metadata": {},
   "outputs": [],
   "source": [
    "# perm_model = RandomForestClassifier()\n",
    "# perm_model.fit(X, y)\n",
    "# perm_results = permutation_importance(perm_model, X, y, n_repeats=5, random_state=0, n_jobs=-1)\n",
    "# perm_results[\"importances_mean\"]"
   ]
  },
  {
   "cell_type": "markdown",
   "metadata": {},
   "source": [
    "### Linear regression"
   ]
  },
  {
   "cell_type": "code",
   "execution_count": null,
   "metadata": {},
   "outputs": [],
   "source": [
    "# lr_ranker = LinearRegression()\n",
    "# lr_ranker.fit(X, y)\n",
    "# lr_results = {i:score for i, score in enumerate(lr_ranker.coef_)}"
   ]
  }
 ],
 "metadata": {
  "kernelspec": {
   "display_name": "Python 3",
   "language": "python",
   "name": "python3"
  },
  "language_info": {
   "codemirror_mode": {
    "name": "ipython",
    "version": 3
   },
   "file_extension": ".py",
   "mimetype": "text/x-python",
   "name": "python",
   "nbconvert_exporter": "python",
   "pygments_lexer": "ipython3",
   "version": "3.8.16"
  },
  "orig_nbformat": 4
 },
 "nbformat": 4,
 "nbformat_minor": 2
}
