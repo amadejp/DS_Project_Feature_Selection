{
 "cells": [
  {
   "attachments": {},
   "cell_type": "markdown",
   "metadata": {},
   "source": [
    "# Feature evaluation testing\n",
    "#### Algos tested:\n",
    "1. reliefF\n",
    "2. reliefe\n",
    "3. Mutual information\n",
    "4. XGBoost\n",
    "5. RF classifier\n",
    "6. Linear regression\n",
    "7. Permutation importance\n",
    "8. Chi-squared\n",
    "\n",
    "TODO: Check more packages\n",
    "\n",
    "TODO: export good candidates into rank_algos.py\n",
    "\n",
    "TODO: evaluate rankings for small subsets"
   ]
  },
  {
   "cell_type": "code",
   "execution_count": 37,
   "metadata": {},
   "outputs": [],
   "source": [
    "import helper_functions\n",
    "import pandas as pd\n",
    "import numpy as np\n",
    "import ReliefF\n",
    "import reliefe\n",
    "import rank_algos\n",
    "from sklearn.pipeline import make_pipeline\n",
    "from skrebate import SURF\n",
    "from sklearn.ensemble import RandomForestClassifier\n",
    "from sklearn.model_selection import cross_val_score\n",
    "from sklearn.linear_model import LinearRegression\n",
    "from sklearn.neighbors import KNeighborsClassifier\n",
    "from sklearn.inspection import permutation_importance\n",
    "from sklearn.feature_selection import SelectKBest\n",
    "from sklearn.feature_selection import chi2\n",
    "import xgboost as xgb"
   ]
  },
  {
   "cell_type": "code",
   "execution_count": 2,
   "metadata": {},
   "outputs": [],
   "source": [
    "# read the whole dataset\n",
    "data = pd.read_csv('data/full_data.csv')"
   ]
  },
  {
   "cell_type": "code",
   "execution_count": 3,
   "metadata": {},
   "outputs": [],
   "source": [
    "# subsampling and splitting into X and y\n",
    "X, y = helper_functions.sample_and_split(data, frac=0.001, seed=0)"
   ]
  },
  {
   "cell_type": "markdown",
   "metadata": {},
   "source": [
    "### reliefF"
   ]
  },
  {
   "cell_type": "code",
   "execution_count": 4,
   "metadata": {},
   "outputs": [],
   "source": [
    "# reliefF\n",
    "reliefF_ranker = ReliefF.ReliefF()\n",
    "reliefF_ranker.fit(X, y)\n",
    "reliefF_results = dict(zip(reliefF_ranker.top_features, reliefF_ranker.feature_scores[::-1]))"
   ]
  },
  {
   "attachments": {},
   "cell_type": "markdown",
   "metadata": {},
   "source": [
    "### reliefe - time complexity is brutal, unlikely to be useful"
   ]
  },
  {
   "cell_type": "code",
   "execution_count": 5,
   "metadata": {},
   "outputs": [],
   "source": [
    "reliefe_ranker = reliefe.ReliefE()\n",
    "reliefe_ranker.fit(X, y)\n",
    "reliefe_results = {i:score for i, score in enumerate(reliefe_ranker.feature_importances_)}"
   ]
  },
  {
   "cell_type": "markdown",
   "metadata": {},
   "source": [
    "### mutual information"
   ]
  },
  {
   "cell_type": "code",
   "execution_count": 6,
   "metadata": {},
   "outputs": [],
   "source": [
    "mutual_info_results = rank_algos.mutual_info_score(X, y)\n",
    "mutual_info_results = {i:score for i, score in enumerate(mutual_info_results)}"
   ]
  },
  {
   "cell_type": "markdown",
   "metadata": {},
   "source": [
    "### XGBoost"
   ]
  },
  {
   "cell_type": "code",
   "execution_count": 14,
   "metadata": {},
   "outputs": [],
   "source": [
    "xgb_ranker = xgb.XGBClassifier()\n",
    "xgb_ranker.fit(X, y)\n",
    "xgb_results = {i:score for i, score in enumerate(xgb_ranker.feature_importances_)}"
   ]
  },
  {
   "cell_type": "markdown",
   "metadata": {},
   "source": [
    "### Random Forest Classifier"
   ]
  },
  {
   "cell_type": "code",
   "execution_count": 13,
   "metadata": {},
   "outputs": [],
   "source": [
    "rf_ranker = RandomForestClassifier()\n",
    "rf_ranker.fit(X, y)\n",
    "rf_results = {i:score for i, score in enumerate(rf_ranker.feature_importances_)}"
   ]
  },
  {
   "attachments": {},
   "cell_type": "markdown",
   "metadata": {},
   "source": [
    "### Linear regression"
   ]
  },
  {
   "cell_type": "code",
   "execution_count": 45,
   "metadata": {},
   "outputs": [],
   "source": [
    "lr_ranker = LinearRegression()\n",
    "lr_ranker.fit(X, y)\n",
    "lr_results = {i:score for i, score in enumerate(lr_ranker.coef_)}"
   ]
  },
  {
   "cell_type": "markdown",
   "metadata": {},
   "source": [
    "### Permutation Importance"
   ]
  },
  {
   "cell_type": "code",
   "execution_count": 36,
   "metadata": {},
   "outputs": [
    {
     "data": {
      "text/plain": [
       "array([-2.54291163e-03, -1.90718373e-03, -6.35727908e-03, -3.05149396e-03,\n",
       "        0.00000000e+00,  7.62873490e-04,  0.00000000e+00, -3.43293071e-03,\n",
       "       -1.65289256e-03, -1.01716465e-03,  2.54291163e-04,  1.78003814e-03,\n",
       "        1.78003814e-03,  0.00000000e+00,  5.21296885e-03,  1.27145582e-04,\n",
       "        0.00000000e+00, -1.27145582e-03, -3.17863954e-03, -3.17863954e-03,\n",
       "       -6.35727908e-04, -5.46726001e-03,  5.08582327e-04, -6.35727908e-04,\n",
       "       -1.39860140e-03, -4.19580420e-03, -3.17863954e-03,  5.08582327e-04,\n",
       "       -1.78003814e-03, -6.66133815e-17, -6.66133815e-17,  2.03432931e-03,\n",
       "       -5.08582327e-04, -2.67005722e-03, -1.39860140e-03, -1.01716465e-03,\n",
       "        1.52574698e-03,  1.01716465e-03,  6.35727908e-04, -1.52574698e-03,\n",
       "       -5.08582327e-04,  1.65289256e-03, -2.16147489e-03,  1.65289256e-03,\n",
       "       -2.28862047e-03, -3.05149396e-03, -5.08582327e-04,  2.54291163e-04,\n",
       "        1.52574698e-03, -5.08582327e-04, -1.27145582e-04, -1.65289256e-03,\n",
       "        1.65289256e-03, -3.81436745e-03, -5.08582327e-04,  3.81436745e-04,\n",
       "       -8.90019072e-04, -1.90718373e-03, -3.05149396e-03,  3.81436745e-04,\n",
       "       -1.39860140e-03,  2.54291163e-03, -3.81436745e-04,  7.62873490e-04,\n",
       "       -2.41576605e-03,  7.62873490e-04, -1.01716465e-03, -1.90718373e-03,\n",
       "        1.27145582e-04,  1.27145582e-04,  0.00000000e+00,  2.67005722e-03,\n",
       "        0.00000000e+00,  0.00000000e+00,  0.00000000e+00,  0.00000000e+00,\n",
       "        0.00000000e+00,  0.00000000e+00,  0.00000000e+00,  0.00000000e+00,\n",
       "        0.00000000e+00,  0.00000000e+00,  0.00000000e+00,  0.00000000e+00,\n",
       "        0.00000000e+00,  0.00000000e+00,  0.00000000e+00,  0.00000000e+00,\n",
       "        0.00000000e+00,  0.00000000e+00,  6.86586141e-03, -1.27145582e-04,\n",
       "        0.00000000e+00,  0.00000000e+00,  0.00000000e+00,  0.00000000e+00,\n",
       "        0.00000000e+00,  0.00000000e+00,  1.05785124e-01,  1.53846154e-02])"
      ]
     },
     "execution_count": 36,
     "metadata": {},
     "output_type": "execute_result"
    }
   ],
   "source": [
    "perm_model = KNeighborsClassifier()\n",
    "perm_model.fit(X, y)\n",
    "perm_results = permutation_importance(perm_model, X, y, n_repeats=5, random_state=0, n_jobs=-1)\n",
    "perm_results[\"importances_mean\"]"
   ]
  },
  {
   "cell_type": "markdown",
   "metadata": {},
   "source": [
    "### Chi-Squared"
   ]
  },
  {
   "cell_type": "code",
   "execution_count": 43,
   "metadata": {},
   "outputs": [
    {
     "data": {
      "text/plain": [
       "array([2.22328058e-03, 8.09056739e-04, 1.07480566e-04, 1.29943673e-03,\n",
       "       9.75816874e-07, 2.53735300e-03, 5.38888520e-07, 1.63706550e-06,\n",
       "       5.46708858e-04, 1.21500156e-03, 4.67873961e-04, 8.69789416e-04,\n",
       "       2.52597607e-05, 7.11428003e-08, 4.37042483e-03, 1.40376864e-06,\n",
       "       3.31636034e-05, 4.85055367e-04, 9.79206347e-05, 2.20614904e-04,\n",
       "       3.48664665e-04, 2.12898870e-03, 3.64047017e-03, 2.25474590e-03,\n",
       "       1.31430532e-05, 1.75185521e-04, 1.48502419e-03, 3.47907716e-04,\n",
       "       6.83131802e-04, 6.23105782e-05, 2.38383158e-05, 1.90815514e-04,\n",
       "       2.70343235e-03, 4.61411664e-04, 9.25568476e-04, 2.25976068e-04,\n",
       "       4.51959405e-04, 6.37791410e-05, 6.97239513e-04, 1.17568631e-03,\n",
       "       2.74715390e-04, 1.16152818e-03, 1.56777989e-03, 1.26778699e-04,\n",
       "       7.66137713e-04, 3.65602072e-04, 2.80000755e-04, 1.27275641e-03,\n",
       "       3.23139231e-03, 3.98035422e-04, 2.97548051e-03, 3.66323871e-03,\n",
       "       3.93944109e-03, 1.22700940e-04, 2.24816740e-04, 1.42372371e-03,\n",
       "       3.40993116e-03, 1.13662228e-05, 1.14534653e-04, 1.65614073e-02,\n",
       "       3.88434844e-05, 2.44289375e-03, 2.74527589e-04, 3.71970903e-06,\n",
       "       5.18235689e-04, 1.29802413e-05, 3.74254413e-04, 6.14530538e-05,\n",
       "       1.86409394e-05, 1.58575228e-03, 0.00000000e+00, 4.41594483e-06,\n",
       "       3.04756689e-13, 0.00000000e+00, 0.00000000e+00, 0.00000000e+00,\n",
       "       0.00000000e+00, 0.00000000e+00, 0.00000000e+00, 0.00000000e+00,\n",
       "       7.85775421e-33, 4.65733915e-10, 1.67257614e-10, 1.50766950e-10,\n",
       "       1.14325730e-08, 1.84447576e-09, 6.75924650e-08, 2.63849896e-07,\n",
       "       1.21735427e-06, 7.38624240e-06, 1.12874098e-02, 1.16488756e-03,\n",
       "       0.00000000e+00, 0.00000000e+00, 0.00000000e+00, 0.00000000e+00,\n",
       "       0.00000000e+00, 7.80963179e-33, 1.00000000e+00, 4.79124463e-02])"
      ]
     },
     "execution_count": 43,
     "metadata": {},
     "output_type": "execute_result"
    }
   ],
   "source": [
    "cs_ranker = SelectKBest(score_func=chi2, k=\"all\")\n",
    "cs_ranker.fit(X, y)\n",
    "cs_results = {i:score for i, score in enumerate(cs_ranker.scores_)}\n",
    "np.array(list(cs_results.values()))/np.max(list(cs_results.values()))"
   ]
  },
  {
   "cell_type": "code",
   "execution_count": null,
   "metadata": {},
   "outputs": [],
   "source": []
  }
 ],
 "metadata": {
  "kernelspec": {
   "display_name": "Python 3",
   "language": "python",
   "name": "python3"
  },
  "language_info": {
   "codemirror_mode": {
    "name": "ipython",
    "version": 3
   },
   "file_extension": ".py",
   "mimetype": "text/x-python",
   "name": "python",
   "nbconvert_exporter": "python",
   "pygments_lexer": "ipython3",
   "version": "3.8.16"
  },
  "orig_nbformat": 4
 },
 "nbformat": 4,
 "nbformat_minor": 2
}
