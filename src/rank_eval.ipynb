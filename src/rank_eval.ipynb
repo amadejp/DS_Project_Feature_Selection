{
 "cells": [
  {
   "cell_type": "code",
   "execution_count": 1,
   "outputs": [],
   "source": [
    "import pandas as pd\n",
    "import numpy as np\n",
    "import importlib\n",
    "import time\n",
    "\n",
    "import rank_eval_pipeline as rep\n",
    "import rank_algos\n",
    "import eval_algos\n",
    "\n",
    "%load_ext autoreload\n",
    "%autoreload 2"
   ],
   "metadata": {
    "collapsed": false
   }
  },
  {
   "cell_type": "code",
   "execution_count": 2,
   "outputs": [
    {
     "data": {
      "text/plain": "    info_click_valid    feature0    feature1    feature2    feature3  \\\n0                  1  3282490636  3723861767   592628169  2093237750   \n1                  1  2736633149  3188050045  3599848058  2300041243   \n2                  1  1067402948   108565582  2502341442  3474641266   \n3                  1  3634365896  2567512859   753387811  2124887610   \n4                  1  3282490636  1241498584    99521842   868270843   \n..               ...         ...         ...         ...         ...   \n95                 0   700937091   362150164  3932439768  3019250116   \n96                 0  3282490636  2819363971  3165653309    38339099   \n97                 0  3282490636   725982970   724167595  1980649076   \n98                 0   702899251  2500864415  3930445342  1638657508   \n99                 0  2602737163  3129049726  1108685941   619972387   \n\n      feature4    feature5    feature6    feature7    feature8  ...  \\\n0   3617548381  2965721776  3543218850  1072184752  1418147852  ...   \n1   3503728323  1531702445  3543218850  2634671414  2266512440  ...   \n2   3503728323  1531702445  3543218850  4108477053   870407079  ...   \n3   3503728323  2965721776  3543218850  4108477053  3981694603  ...   \n4   3503728323  1531702445  3543218850  4108477053  3377404711  ...   \n..         ...         ...         ...         ...         ...  ...   \n95  3503728323  1531702445  3543218850  3371001158  2410716069  ...   \n96  3503728323  2965721776  3543218850  2265512916  2246703601  ...   \n97  3503728323  2965721776  3543218850  3371001158  2619780321  ...   \n98  3503728323  1531702445  3543218850  2537517239  3343330775  ...   \n99  3503728323  1531702445  3543218850  2265512916  2858004814  ...   \n\n     feature90   feature91   feature92   feature93   feature94  feature95  \\\n0   3637550824  3790689556  2087688982  3899436442  3255798468  355094504   \n1   3637550824  3790689556  2087688982  3899436442  3255798468  355094504   \n2    147472623  3508206064  2087688982  3899436442  3255798468  355094504   \n3    147472623  3508206064  2087688982  3899436442  3255798468  355094504   \n4    147472623  2450605253  2087688982  3899436442  3255798468  355094504   \n..         ...         ...         ...         ...         ...        ...   \n95  3637550824  3790689556  2087688982  3899436442  3255798468  355094504   \n96  3637550824  3790689556  2087688982  3899436442  3255798468  355094504   \n97  3637550824  3790689556  2087688982  3899436442  3255798468  355094504   \n98  3637550824  3790689556  2087688982  3899436442  3255798468  355094504   \n99  3637550824  3790689556  2087688982  3899436442  3255798468  355094504   \n\n     feature96   feature97   feature98   feature99  \n0   3479975775  3411024218  3656293508  2846559631  \n1   3479975775  3411024218  3656293508  2846559631  \n2   3479975775  3411024218  3656293508  2846559631  \n3   3479975775  3411024218  3656293508  2846559631  \n4   3479975775  3411024218  3656293508  2846559631  \n..         ...         ...         ...         ...  \n95  3479975775  3411024218   680663615  3956900602  \n96  3479975775  3411024218   680663615  3956900602  \n97  3479975775  3411024218   680663615  3956900602  \n98  3479975775  3411024218   680663615  3956900602  \n99  3479975775  3411024218   680663615  3956900602  \n\n[100 rows x 101 columns]",
      "text/html": "<div>\n<style scoped>\n    .dataframe tbody tr th:only-of-type {\n        vertical-align: middle;\n    }\n\n    .dataframe tbody tr th {\n        vertical-align: top;\n    }\n\n    .dataframe thead th {\n        text-align: right;\n    }\n</style>\n<table border=\"1\" class=\"dataframe\">\n  <thead>\n    <tr style=\"text-align: right;\">\n      <th></th>\n      <th>info_click_valid</th>\n      <th>feature0</th>\n      <th>feature1</th>\n      <th>feature2</th>\n      <th>feature3</th>\n      <th>feature4</th>\n      <th>feature5</th>\n      <th>feature6</th>\n      <th>feature7</th>\n      <th>feature8</th>\n      <th>...</th>\n      <th>feature90</th>\n      <th>feature91</th>\n      <th>feature92</th>\n      <th>feature93</th>\n      <th>feature94</th>\n      <th>feature95</th>\n      <th>feature96</th>\n      <th>feature97</th>\n      <th>feature98</th>\n      <th>feature99</th>\n    </tr>\n  </thead>\n  <tbody>\n    <tr>\n      <th>0</th>\n      <td>1</td>\n      <td>3282490636</td>\n      <td>3723861767</td>\n      <td>592628169</td>\n      <td>2093237750</td>\n      <td>3617548381</td>\n      <td>2965721776</td>\n      <td>3543218850</td>\n      <td>1072184752</td>\n      <td>1418147852</td>\n      <td>...</td>\n      <td>3637550824</td>\n      <td>3790689556</td>\n      <td>2087688982</td>\n      <td>3899436442</td>\n      <td>3255798468</td>\n      <td>355094504</td>\n      <td>3479975775</td>\n      <td>3411024218</td>\n      <td>3656293508</td>\n      <td>2846559631</td>\n    </tr>\n    <tr>\n      <th>1</th>\n      <td>1</td>\n      <td>2736633149</td>\n      <td>3188050045</td>\n      <td>3599848058</td>\n      <td>2300041243</td>\n      <td>3503728323</td>\n      <td>1531702445</td>\n      <td>3543218850</td>\n      <td>2634671414</td>\n      <td>2266512440</td>\n      <td>...</td>\n      <td>3637550824</td>\n      <td>3790689556</td>\n      <td>2087688982</td>\n      <td>3899436442</td>\n      <td>3255798468</td>\n      <td>355094504</td>\n      <td>3479975775</td>\n      <td>3411024218</td>\n      <td>3656293508</td>\n      <td>2846559631</td>\n    </tr>\n    <tr>\n      <th>2</th>\n      <td>1</td>\n      <td>1067402948</td>\n      <td>108565582</td>\n      <td>2502341442</td>\n      <td>3474641266</td>\n      <td>3503728323</td>\n      <td>1531702445</td>\n      <td>3543218850</td>\n      <td>4108477053</td>\n      <td>870407079</td>\n      <td>...</td>\n      <td>147472623</td>\n      <td>3508206064</td>\n      <td>2087688982</td>\n      <td>3899436442</td>\n      <td>3255798468</td>\n      <td>355094504</td>\n      <td>3479975775</td>\n      <td>3411024218</td>\n      <td>3656293508</td>\n      <td>2846559631</td>\n    </tr>\n    <tr>\n      <th>3</th>\n      <td>1</td>\n      <td>3634365896</td>\n      <td>2567512859</td>\n      <td>753387811</td>\n      <td>2124887610</td>\n      <td>3503728323</td>\n      <td>2965721776</td>\n      <td>3543218850</td>\n      <td>4108477053</td>\n      <td>3981694603</td>\n      <td>...</td>\n      <td>147472623</td>\n      <td>3508206064</td>\n      <td>2087688982</td>\n      <td>3899436442</td>\n      <td>3255798468</td>\n      <td>355094504</td>\n      <td>3479975775</td>\n      <td>3411024218</td>\n      <td>3656293508</td>\n      <td>2846559631</td>\n    </tr>\n    <tr>\n      <th>4</th>\n      <td>1</td>\n      <td>3282490636</td>\n      <td>1241498584</td>\n      <td>99521842</td>\n      <td>868270843</td>\n      <td>3503728323</td>\n      <td>1531702445</td>\n      <td>3543218850</td>\n      <td>4108477053</td>\n      <td>3377404711</td>\n      <td>...</td>\n      <td>147472623</td>\n      <td>2450605253</td>\n      <td>2087688982</td>\n      <td>3899436442</td>\n      <td>3255798468</td>\n      <td>355094504</td>\n      <td>3479975775</td>\n      <td>3411024218</td>\n      <td>3656293508</td>\n      <td>2846559631</td>\n    </tr>\n    <tr>\n      <th>...</th>\n      <td>...</td>\n      <td>...</td>\n      <td>...</td>\n      <td>...</td>\n      <td>...</td>\n      <td>...</td>\n      <td>...</td>\n      <td>...</td>\n      <td>...</td>\n      <td>...</td>\n      <td>...</td>\n      <td>...</td>\n      <td>...</td>\n      <td>...</td>\n      <td>...</td>\n      <td>...</td>\n      <td>...</td>\n      <td>...</td>\n      <td>...</td>\n      <td>...</td>\n      <td>...</td>\n    </tr>\n    <tr>\n      <th>95</th>\n      <td>0</td>\n      <td>700937091</td>\n      <td>362150164</td>\n      <td>3932439768</td>\n      <td>3019250116</td>\n      <td>3503728323</td>\n      <td>1531702445</td>\n      <td>3543218850</td>\n      <td>3371001158</td>\n      <td>2410716069</td>\n      <td>...</td>\n      <td>3637550824</td>\n      <td>3790689556</td>\n      <td>2087688982</td>\n      <td>3899436442</td>\n      <td>3255798468</td>\n      <td>355094504</td>\n      <td>3479975775</td>\n      <td>3411024218</td>\n      <td>680663615</td>\n      <td>3956900602</td>\n    </tr>\n    <tr>\n      <th>96</th>\n      <td>0</td>\n      <td>3282490636</td>\n      <td>2819363971</td>\n      <td>3165653309</td>\n      <td>38339099</td>\n      <td>3503728323</td>\n      <td>2965721776</td>\n      <td>3543218850</td>\n      <td>2265512916</td>\n      <td>2246703601</td>\n      <td>...</td>\n      <td>3637550824</td>\n      <td>3790689556</td>\n      <td>2087688982</td>\n      <td>3899436442</td>\n      <td>3255798468</td>\n      <td>355094504</td>\n      <td>3479975775</td>\n      <td>3411024218</td>\n      <td>680663615</td>\n      <td>3956900602</td>\n    </tr>\n    <tr>\n      <th>97</th>\n      <td>0</td>\n      <td>3282490636</td>\n      <td>725982970</td>\n      <td>724167595</td>\n      <td>1980649076</td>\n      <td>3503728323</td>\n      <td>2965721776</td>\n      <td>3543218850</td>\n      <td>3371001158</td>\n      <td>2619780321</td>\n      <td>...</td>\n      <td>3637550824</td>\n      <td>3790689556</td>\n      <td>2087688982</td>\n      <td>3899436442</td>\n      <td>3255798468</td>\n      <td>355094504</td>\n      <td>3479975775</td>\n      <td>3411024218</td>\n      <td>680663615</td>\n      <td>3956900602</td>\n    </tr>\n    <tr>\n      <th>98</th>\n      <td>0</td>\n      <td>702899251</td>\n      <td>2500864415</td>\n      <td>3930445342</td>\n      <td>1638657508</td>\n      <td>3503728323</td>\n      <td>1531702445</td>\n      <td>3543218850</td>\n      <td>2537517239</td>\n      <td>3343330775</td>\n      <td>...</td>\n      <td>3637550824</td>\n      <td>3790689556</td>\n      <td>2087688982</td>\n      <td>3899436442</td>\n      <td>3255798468</td>\n      <td>355094504</td>\n      <td>3479975775</td>\n      <td>3411024218</td>\n      <td>680663615</td>\n      <td>3956900602</td>\n    </tr>\n    <tr>\n      <th>99</th>\n      <td>0</td>\n      <td>2602737163</td>\n      <td>3129049726</td>\n      <td>1108685941</td>\n      <td>619972387</td>\n      <td>3503728323</td>\n      <td>1531702445</td>\n      <td>3543218850</td>\n      <td>2265512916</td>\n      <td>2858004814</td>\n      <td>...</td>\n      <td>3637550824</td>\n      <td>3790689556</td>\n      <td>2087688982</td>\n      <td>3899436442</td>\n      <td>3255798468</td>\n      <td>355094504</td>\n      <td>3479975775</td>\n      <td>3411024218</td>\n      <td>680663615</td>\n      <td>3956900602</td>\n    </tr>\n  </tbody>\n</table>\n<p>100 rows × 101 columns</p>\n</div>"
     },
     "execution_count": 2,
     "metadata": {},
     "output_type": "execute_result"
    }
   ],
   "source": [
    "data = pd.read_csv('data/full_data.csv')\n",
    "data.head(100)"
   ],
   "metadata": {
    "collapsed": false
   }
  },
  {
   "cell_type": "code",
   "execution_count": 3,
   "outputs": [],
   "source": [
    "rank_method = rank_algos.mutual_info_score\n",
    "eval_method = eval_algos.fuzzy_jaccard\n",
    "\n",
    "rank_eval = rep.RankEval(data.head(100), rank_method, eval_method)"
   ],
   "metadata": {
    "collapsed": false
   }
  },
  {
   "cell_type": "markdown",
   "source": [
    "### Mutual info results (on all data)"
   ],
   "metadata": {
    "collapsed": false
   }
  },
  {
   "cell_type": "code",
   "execution_count": null,
   "outputs": [],
   "source": [
    "# mutual info on full data results:\n",
    "results = np.array([0.09717625, 0.06888329, 0.06126243, 0.06269187, 0.17329753, 0.14716816\n",
    "        , 0.19778081, 0.07532905, 0.0766885, 0.06631544, 0.06275608, 0.04218489\n",
    "        , 0.15705678, 0.13656907, 0.19607233, 0.20788328, 0.23036554, 0.10723845\n",
    "        , 0.05922656, 0.06632573, 0.07530304, 0.0628231, 0.0557336, 0.08918849\n",
    "        , 0.20410476, 0.13251569, 0.05500895, 0.18283456, 0.02394768, 0.03650781\n",
    "        , 0.07144077, 0.15222733, 0.18366797, 0.06169769, 0.00195838, 0.18430796\n",
    "        , 0.14075448, 0.1427426, 0.12788617, 0.17901007, 0.17435444, 0.1229047\n",
    "        , 0.13191568, 0.09527463, 0.0694764, 0.14802611, 0.12330489, 0.12995531\n",
    "        , 0.16931972, 0.08140305, 0.11965908, 0.11227323, 0.10220764, 0.17162563\n",
    "        , 0.14953368, 0.06142728, 0.1352397, 0.06594784, 0.06246859, 0.01162358\n",
    "        , 0.06505164, 0.11061847, 0.15131267, 0.09317203, 0.10165634, 0.15379381\n",
    "        , 0.16504244, 0.11004817, 0.10467595, 0.04368644, 0.24423437, 0.03381416\n",
    "        , 0.21592521, 0.17266281, 0.22476187, 0.21147982, 0.25214441, 0.1834268\n",
    "        , 0.20025225, 0.21258738, 0.2518063, 0.04038459, 0.07872028, 0.05843621\n",
    "        , 0.05958591, 0.08510234, 0.06077662, 0.07338735, 0.06669493, 0.06683989\n",
    "        , 0.19029739, 0.18159669, 0.17475133, 0.18460458, 0.21162839, 0.22964289\n",
    "        , 0.20058981, 0.20365378, 0.53797382, 0.70876002])"
   ],
   "metadata": {
    "collapsed": false
   }
  },
  {
   "cell_type": "code",
   "execution_count": 14,
   "outputs": [],
   "source": [
    "gds = eval_algos.get_ground_truths()\n",
    "\n",
    "gd_singles = gds[0][\"rig\"].to_numpy().astype(float)\n",
    "gd_first_gen = gds[1][\"rig\"].to_numpy().astype(float)\n",
    "\n",
    "# add min value to gd_singles to make it positive\n",
    "gd_singles = gd_singles + abs(gd_singles.min())\n",
    "gd_first_gen = gd_first_gen + abs(gd_first_gen.min())"
   ],
   "metadata": {
    "collapsed": false
   }
  },
  {
   "cell_type": "code",
   "execution_count": 15,
   "outputs": [
    {
     "data": {
      "text/plain": "(0.8635530367032218, 0.7392145047450169)"
     },
     "execution_count": 15,
     "metadata": {},
     "output_type": "execute_result"
    }
   ],
   "source": [
    "importlib.reload(rep)\n",
    "\n",
    "rank_eval.df_scores = results\n",
    "rank_eval.ground_truth_singles = gd_singles\n",
    "rank_eval.ground_truth_first_gen = gd_first_gen\n",
    "\n",
    "rank_eval.evaluate(eval_only=True)"
   ],
   "metadata": {
    "collapsed": false
   }
  },
  {
   "cell_type": "code",
   "execution_count": 16,
   "outputs": [
    {
     "name": "stdout",
     "output_type": "stream",
     "text": [
      "       score  feature\n",
      "0   0.097176        0\n",
      "1   0.068883        1\n",
      "2   0.061262        2\n",
      "3   0.062692        3\n",
      "4   0.173298        4\n",
      "..       ...      ...\n",
      "95  0.229643       95\n",
      "96  0.200590       96\n",
      "97  0.203654       97\n",
      "98  0.537974       98\n",
      "99  0.708760       99\n",
      "\n",
      "[100 rows x 2 columns]\n",
      "   change       rig\n",
      "0      98  0.940000\n",
      "1      99  0.940000\n",
      "0      23  0.763097\n",
      "1      12  0.763097\n",
      "2      10  0.759176\n",
      "3      21  0.754557\n",
      "4      16  0.752791\n",
      "5      19  0.751879\n",
      "6      15  0.751157\n",
      "7      49  0.750405\n",
      "   change                  rig\n",
      "0      99   0.9985502828799538\n",
      "1      98   0.9985502828799538\n",
      "2      23  0.23865014720115485\n",
      "3      22   0.1873707610194254\n",
      "4      86  0.18647041667281428\n",
      "5      85   0.1864668119884656\n",
      "6      88  0.18645454168679054\n",
      "7      89  0.18645454168679054\n",
      "8      87  0.18645454168679054\n",
      "9      84   0.1861464287539384\n",
      "      score  feature\n",
      "0  0.097176        0\n",
      "1  0.068883        1\n",
      "2  0.061262        2\n",
      "3  0.062692        3\n",
      "4  0.173298        4\n",
      "5  0.147168        5\n",
      "6  0.197781        6\n",
      "7  0.075329        7\n",
      "8  0.076689        8\n",
      "9  0.066315        9\n"
     ]
    }
   ],
   "source": [
    "importlib.reload(eval_algos)\n",
    "\n",
    "gds = eval_algos.get_ground_truths_ordered()\n",
    "\n",
    "gd_singles = gds[0][:10]\n",
    "gd_first_gen = gds[1][:10]\n",
    "\n",
    "# add feature names to results\n",
    "results = pd.DataFrame(results, columns=[\"score\"])\n",
    "results[\"feature\"] = range(0, len(results))\n",
    "print(results)\n",
    "\n",
    "print(gd_singles)\n",
    "print(gd_first_gen)\n",
    "print(results[:10])"
   ],
   "metadata": {
    "collapsed": false
   }
  },
  {
   "cell_type": "code",
   "execution_count": 17,
   "outputs": [
    {
     "name": "stdout",
     "output_type": "stream",
     "text": [
      "0.7004396806244233\n",
      "0.6393842363753732\n"
     ]
    }
   ],
   "source": [
    "a_singles = gd_singles[\"rig\"].to_numpy(float)\n",
    "a_first_gen = gd_first_gen[\"rig\"].to_numpy(float)\n",
    "\n",
    "b_singles = results[:10][\"feature\"].to_numpy(float)\n",
    "b_first_gen = results[:10][\"feature\"].to_numpy(float)\n",
    "\n",
    "print(eval_algos.fuzzy_jaccard(a_singles, b_singles)[1])\n",
    "print(eval_algos.fuzzy_jaccard(a_first_gen, b_first_gen)[1])"
   ],
   "metadata": {
    "collapsed": false
   }
  },
  {
   "cell_type": "markdown",
   "source": [
    "### ReliefF results"
   ],
   "metadata": {
    "collapsed": false
   }
  },
  {
   "cell_type": "code",
   "execution_count": 4,
   "outputs": [],
   "source": [
    "eval_method = eval_algos.fuzzy_jaccard\n",
    "rank_eval = rep.RankEval(data.head(100), rank_method, eval_method)"
   ],
   "metadata": {
    "collapsed": false
   }
  },
  {
   "cell_type": "code",
   "execution_count": 112,
   "outputs": [],
   "source": [
    "def results_transform(results: dict):\n",
    " results_pd = pd.DataFrame.from_dict(results, orient='index')      # change dict to pd dataframe\n",
    " results_pd = results_pd.sort_index()      # sort by index\n",
    " results_pd = results_pd.astype(float)      # change type to float\n",
    " results_pd = results_pd + abs(results_pd.min())     # change negative values to positive\n",
    "\n",
    " return results_pd\n",
    "\n",
    "def prepare_gd():\n",
    " gds = eval_algos.get_ground_truths()\n",
    "\n",
    " gd_singles = gds[0][\"rig\"].to_numpy().astype(float)\n",
    " gd_first_gen = gds[1][\"rig\"].to_numpy().astype(float)\n",
    "\n",
    " gd_singles = gd_singles + abs(gd_singles.min())\n",
    " gd_first_gen = gd_first_gen + abs(gd_first_gen.min())\n",
    "\n",
    " return gd_singles, gd_first_gen\n",
    "\n",
    "def evaluate_results(results_pd, gd_singles, gd_first_gen):\n",
    " rank_eval.df_scores = results_pd[0].to_numpy().astype(float)\n",
    " rank_eval.ground_truth_singles = gd_singles\n",
    " rank_eval.ground_truth_first_gen = gd_first_gen\n",
    "\n",
    " return rank_eval.evaluate(eval_only=True)"
   ],
   "metadata": {
    "collapsed": false
   }
  },
  {
   "cell_type": "code",
   "execution_count": 107,
   "outputs": [],
   "source": [
    "relieff_promil = {99: 157200.0,\n",
    " 98: 157200.0,\n",
    " 6: 98138.0,\n",
    " 74: 98138.0,\n",
    " 75: 98138.0,\n",
    " 76: 98138.0,\n",
    " 77: 98138.0,\n",
    " 78: 98138.0,\n",
    " 79: 77578.0,\n",
    " 80: 78786.0,\n",
    " 70: -88722.0,\n",
    " 73: -88722.0,\n",
    " 92: -88722.0,\n",
    " 93: -88722.0,\n",
    " 94: -88722.0,\n",
    " 95: -88726.0,\n",
    " 96: -88718.0,\n",
    " 97: -88636.0,\n",
    " 72: -88146.0,\n",
    " 16: 98138.0,\n",
    " 34: 98138.0,\n",
    " 35: 98138.0,\n",
    " 14: 98138.0,\n",
    " 48: 98138.0,\n",
    " 27: 98138.0,\n",
    " 90: 98138.0,\n",
    " 32: 98138.0,\n",
    " 15: 96842.0,\n",
    " 91: -25630.0,\n",
    " 24: 98138.0,\n",
    " 4: 10452.0,\n",
    " 39: 7998.0,\n",
    " 25: -14532.0,\n",
    " 42: 36396.0,\n",
    " 40: 42478.0,\n",
    " 65: -22012.0,\n",
    " 62: -15334.0,\n",
    " 53: 40912.0,\n",
    " 37: 18610.0,\n",
    " 38: -82762.0,\n",
    " 36: 5904.0,\n",
    " 5: -86480.0,\n",
    " 66: -94110.0,\n",
    " 28: 14004.0,\n",
    " 12: -93936.0,\n",
    " 45: 20234.0,\n",
    " 13: 40816.0,\n",
    " 54: 18148.0,\n",
    " 46: 9612.0,\n",
    " 61: -484.0,\n",
    " 52: -52750.0,\n",
    " 31: 82902.0,\n",
    " 47: 16064.0,\n",
    " 56: 18654.0,\n",
    " 41: 29386.0,\n",
    " 69: -72916.0,\n",
    " 51: 3936.0,\n",
    " 68: 56116.0,\n",
    " 59: 10962.0,\n",
    " 43: 55094.0,\n",
    " 50: 56562.0,\n",
    " 11: 40414.0,\n",
    " 67: 40748.0,\n",
    " 63: 38318.0,\n",
    " 64: 84274.0,\n",
    " 71: 87800.0,\n",
    " 30: -98130.0,\n",
    " 17: 78704.0,\n",
    " 29: 17346.0,\n",
    " 49: -35198.0,\n",
    " 18: -45148.0,\n",
    " 26: 30502.0,\n",
    " 0: 82826.0,\n",
    " 7: -63702.0,\n",
    " 44: 56232.0,\n",
    " 20: 66908.0,\n",
    " 8: -85698.0,\n",
    " 9: -93780.0,\n",
    " 19: -92534.0,\n",
    " 60: -74840.0,\n",
    " 23: -81542.0,\n",
    " 58: -56948.0,\n",
    " 81: -41030.0,\n",
    " 82: 93800.0,\n",
    " 83: 78222.0,\n",
    " 85: 82956.0,\n",
    " 86: 26508.0,\n",
    " 87: 30282.0,\n",
    " 88: -14068.0,\n",
    " 89: -93778.0,\n",
    " 84: -80580.0,\n",
    " 1: -80578.0,\n",
    " 21: -70330.0,\n",
    " 10: 98138.0,\n",
    " 22: 38122.0,\n",
    " 55: 56834.0,\n",
    " 57: -94806.0,\n",
    " 3: -96098.0,\n",
    " 2: -92044.0,\n",
    " 33: -64788.0}\n",
    "\n",
    "relieff_procent = {99: 1572800.0,\n",
    " 98: 1572800.0,\n",
    " 75: 1097214.0,\n",
    " 77: 1097214.0,\n",
    " 78: 1097214.0,\n",
    " 79: 1097214.0,\n",
    " 80: 1097214.0,\n",
    " 74: 1097214.0,\n",
    " 73: 912950.0,\n",
    " 70: 940584.0,\n",
    " 76: -990000.0,\n",
    " 92: -990000.0,\n",
    " 93: -990000.0,\n",
    " 94: -989994.0,\n",
    " 95: -990000.0,\n",
    " 96: -989960.0,\n",
    " 97: -989932.0,\n",
    " 6: -989538.0,\n",
    " 72: -982026.0,\n",
    " 16: 1097214.0,\n",
    " 34: 1097214.0,\n",
    " 14: 1097214.0,\n",
    " 90: 1097214.0,\n",
    " 32: 1097214.0,\n",
    " 35: 1097214.0,\n",
    " 91: 1097214.0,\n",
    " 48: 1097214.0,\n",
    " 27: 1077812.0,\n",
    " 15: -120804.0,\n",
    " 24: 1097214.0,\n",
    " 4: 210694.0,\n",
    " 39: 241728.0,\n",
    " 42: -85136.0,\n",
    " 40: 438014.0,\n",
    " 25: 545664.0,\n",
    " 62: -127670.0,\n",
    " 65: -33552.0,\n",
    " 45: 584622.0,\n",
    " 5: 444442.0,\n",
    " 53: -862940.0,\n",
    " 28: 89444.0,\n",
    " 13: -945620.0,\n",
    " 31: -1048056.0,\n",
    " 61: 395596.0,\n",
    " 37: -993510.0,\n",
    " 66: 299750.0,\n",
    " 38: 498046.0,\n",
    " 36: 255932.0,\n",
    " 12: 165972.0,\n",
    " 56: -4156.0,\n",
    " 54: -562128.0,\n",
    " 52: 906466.0,\n",
    " 46: 206042.0,\n",
    " 68: 249064.0,\n",
    " 69: 516584.0,\n",
    " 47: -572368.0,\n",
    " 51: 165628.0,\n",
    " 43: 686630.0,\n",
    " 41: 156432.0,\n",
    " 59: 661390.0,\n",
    " 50: 695066.0,\n",
    " 63: 433542.0,\n",
    " 11: 441630.0,\n",
    " 67: 408366.0,\n",
    " 71: 935474.0,\n",
    " 64: 985724.0,\n",
    " 30: -1096884.0,\n",
    " 17: 938548.0,\n",
    " 29: 456018.0,\n",
    " 26: -233278.0,\n",
    " 18: -328524.0,\n",
    " 49: 497980.0,\n",
    " 44: 902202.0,\n",
    " 0: -456852.0,\n",
    " 7: 622916.0,\n",
    " 8: 792492.0,\n",
    " 9: -928200.0,\n",
    " 20: -1039468.0,\n",
    " 19: -942056.0,\n",
    " 60: -749604.0,\n",
    " 1: -792516.0,\n",
    " 23: -557236.0,\n",
    " 10: -314724.0,\n",
    " 21: 1042880.0,\n",
    " 58: 875246.0,\n",
    " 3: 971768.0,\n",
    " 81: 491172.0,\n",
    " 82: 407722.0,\n",
    " 83: -72348.0,\n",
    " 84: -935652.0,\n",
    " 86: -730650.0,\n",
    " 85: -729920.0,\n",
    " 87: -663996.0,\n",
    " 88: 1095702.0,\n",
    " 89: 504550.0,\n",
    " 55: 732768.0,\n",
    " 2: -975644.0,\n",
    " 22: -1009346.0,\n",
    " 57: -890614.0,\n",
    " 33: -592118.0}\n",
    "\n",
    "relieff_10procentov = {99: 15728700.0,\n",
    " 98: 15728700.0,\n",
    " 70: 12141824.0,\n",
    " 97: 12141824.0,\n",
    " 96: 12141824.0,\n",
    " 95: 12141824.0,\n",
    " 94: 12141824.0,\n",
    " 93: 12141824.0,\n",
    " 92: 10619714.0,\n",
    " 75: 10998412.0,\n",
    " 76: -10736482.0,\n",
    " 77: -10736482.0,\n",
    " 78: -10736482.0,\n",
    " 79: -10736450.0,\n",
    " 80: -10736482.0,\n",
    " 74: -10735960.0,\n",
    " 73: -10735508.0,\n",
    " 6: -10729812.0,\n",
    " 72: -10646330.0,\n",
    " 16: 12140002.0,\n",
    " 14: 12140002.0,\n",
    " 90: 12140002.0,\n",
    " 32: 12140002.0,\n",
    " 34: 12140002.0,\n",
    " 91: 12140002.0,\n",
    " 48: 12140002.0,\n",
    " 35: 12140002.0,\n",
    " 27: 11937076.0,\n",
    " 15: 294892.0,\n",
    " 24: 12141824.0,\n",
    " 4: 3511436.0,\n",
    " 39: 4447360.0,\n",
    " 42: -385500.0,\n",
    " 25: 5024478.0,\n",
    " 31: 6476978.0,\n",
    " 62: -749820.0,\n",
    " 40: 409780.0,\n",
    " 45: 7294686.0,\n",
    " 5: 6092582.0,\n",
    " 13: -9142888.0,\n",
    " 65: 1344154.0,\n",
    " 56: -10098828.0,\n",
    " 28: -11472552.0,\n",
    " 61: 6377216.0,\n",
    " 53: -10105972.0,\n",
    " 12: 4312314.0,\n",
    " 37: 5435600.0,\n",
    " 66: 3541550.0,\n",
    " 38: 2856160.0,\n",
    " 36: 187390.0,\n",
    " 68: -5752988.0,\n",
    " 54: 10371082.0,\n",
    " 43: 2326250.0,\n",
    " 52: 3004622.0,\n",
    " 69: 7096854.0,\n",
    " 46: -2314792.0,\n",
    " 51: 3789598.0,\n",
    " 47: 7698936.0,\n",
    " 41: 1915902.0,\n",
    " 59: 7234264.0,\n",
    " 63: 7834936.0,\n",
    " 71: 4934584.0,\n",
    " 50: 5056292.0,\n",
    " 11: 4469552.0,\n",
    " 67: 10337318.0,\n",
    " 64: 10849062.0,\n",
    " 17: -12131116.0,\n",
    " 26: 10970072.0,\n",
    " 30: 7390012.0,\n",
    " 44: -1683034.0,\n",
    " 29: -2719398.0,\n",
    " 0: 6222192.0,\n",
    " 18: 10298882.0,\n",
    " 7: -1228896.0,\n",
    " 8: 7558094.0,\n",
    " 9: 8911430.0,\n",
    " 49: -9883166.0,\n",
    " 20: -11361618.0,\n",
    " 19: -8282190.0,\n",
    " 1: -6214150.0,\n",
    " 10: -6573784.0,\n",
    " 21: -4255182.0,\n",
    " 3: -1095396.0,\n",
    " 2: 11384942.0,\n",
    " 60: 9499810.0,\n",
    " 23: 11112332.0,\n",
    " 58: 6534996.0,\n",
    " 55: 5188838.0,\n",
    " 81: -74320.0,\n",
    " 82: -7462824.0,\n",
    " 83: -4925592.0,\n",
    " 84: -4918006.0,\n",
    " 86: -4482190.0,\n",
    " 87: 12115218.0,\n",
    " 88: 6813108.0,\n",
    " 89: 8871874.0,\n",
    " 85: -8396194.0,\n",
    " 22: -9119718.0,\n",
    " 57: -6747704.0,\n",
    " 33: -3857856.0}\n",
    "\n",
    "relieff_33procentov = {99: 52429200.0,\n",
    "  98: 52429200.0,\n",
    "  97: 42124574.0,\n",
    "  96: 42124574.0,\n",
    "  95: 42124574.0,\n",
    "  94: 42124574.0,\n",
    "  93: 42124574.0,\n",
    "  92: 42124574.0,\n",
    "  70: 37563292.0,\n",
    "  74: 38976552.0,\n",
    "  79: -36854262.0,\n",
    "  80: -36854262.0,\n",
    "  76: -36854262.0,\n",
    "  75: -36854214.0,\n",
    "  78: -36854254.0,\n",
    "  73: -36852032.0,\n",
    "  77: -36850762.0,\n",
    "  6: -36830858.0,\n",
    "  72: -36539924.0,\n",
    "  16: 42118002.0,\n",
    "  14: 42118002.0,\n",
    "  90: 42118002.0,\n",
    "  32: 42118002.0,\n",
    "  91: 42118002.0,\n",
    "  34: 42118002.0,\n",
    "  48: 42118002.0,\n",
    "  27: 42118002.0,\n",
    "  35: 41480896.0,\n",
    "  15: 4182956.0,\n",
    "  4: 42124574.0,\n",
    "  24: 13627738.0,\n",
    "  31: 18022546.0,\n",
    "  39: -900334.0,\n",
    "  25: 17885792.0,\n",
    "  42: 23313566.0,\n",
    "  62: -1064710.0,\n",
    "  45: 3137008.0,\n",
    "  5: 26641762.0,\n",
    "  40: 23039192.0,\n",
    "  56: -31048114.0,\n",
    "  13: 5496798.0,\n",
    "  65: -34239028.0,\n",
    "  61: -39515688.0,\n",
    "  28: 25047828.0,\n",
    "  12: -33027336.0,\n",
    "  53: 16358974.0,\n",
    "  68: 18954042.0,\n",
    "  66: 13051792.0,\n",
    "  37: 11221950.0,\n",
    "  38: 708742.0,\n",
    "  54: -19089190.0,\n",
    "  43: 36623380.0,\n",
    "  36: 8390722.0,\n",
    "  69: 11167152.0,\n",
    "  52: 26613824.0,\n",
    "  51: -824966.0,\n",
    "  46: 16352052.0,\n",
    "  47: 27005248.0,\n",
    "  41: 7088136.0,\n",
    "  59: 25077544.0,\n",
    "  71: 27492310.0,\n",
    "  63: 17364040.0,\n",
    "  26: 17874478.0,\n",
    "  11: 15517760.0,\n",
    "  50: 35731706.0,\n",
    "  17: 37525392.0,\n",
    "  44: -42062452.0,\n",
    "  67: 38873854.0,\n",
    "  64: 28737304.0,\n",
    "  30: -4055846.0,\n",
    "  0: -7650824.0,\n",
    "  29: 22742338.0,\n",
    "  7: 36369834.0,\n",
    "  8: 2600350.0,\n",
    "  9: 27138614.0,\n",
    "  18: 30892456.0,\n",
    "  1: -33392880.0,\n",
    "  20: -39081066.0,\n",
    "  19: -24079890.0,\n",
    "  49: -17478386.0,\n",
    "  10: -18497732.0,\n",
    "  3: -11030948.0,\n",
    "  21: 176350.0,\n",
    "  2: 39488256.0,\n",
    "  60: 33026806.0,\n",
    "  55: 39169514.0,\n",
    "  23: 24203064.0,\n",
    "  58: 19257694.0,\n",
    "  81: 1149230.0,\n",
    "  82: -19213572.0,\n",
    "  83: -10331862.0,\n",
    "  84: -10308920.0,\n",
    "  86: -9455266.0,\n",
    "  85: 42053438.0,\n",
    "  87: 26119596.0,\n",
    "  88: 32470432.0,\n",
    "  89: -23157424.0,\n",
    "  22: -26407768.0,\n",
    "  57: -16480526.0,\n",
    "  33: -7475866.0}"
   ],
   "metadata": {
    "collapsed": false
   }
  },
  {
   "cell_type": "code",
   "execution_count": 108,
   "outputs": [
    {
     "data": {
      "text/plain": "           0\n0   180956.0\n1    17552.0\n2     6086.0\n3     2032.0\n4   108582.0\n..       ...\n95    9404.0\n96    9412.0\n97    9494.0\n98  255330.0\n99  255330.0\n\n[100 rows x 1 columns]",
      "text/html": "<div>\n<style scoped>\n    .dataframe tbody tr th:only-of-type {\n        vertical-align: middle;\n    }\n\n    .dataframe tbody tr th {\n        vertical-align: top;\n    }\n\n    .dataframe thead th {\n        text-align: right;\n    }\n</style>\n<table border=\"1\" class=\"dataframe\">\n  <thead>\n    <tr style=\"text-align: right;\">\n      <th></th>\n      <th>0</th>\n    </tr>\n  </thead>\n  <tbody>\n    <tr>\n      <th>0</th>\n      <td>180956.0</td>\n    </tr>\n    <tr>\n      <th>1</th>\n      <td>17552.0</td>\n    </tr>\n    <tr>\n      <th>2</th>\n      <td>6086.0</td>\n    </tr>\n    <tr>\n      <th>3</th>\n      <td>2032.0</td>\n    </tr>\n    <tr>\n      <th>4</th>\n      <td>108582.0</td>\n    </tr>\n    <tr>\n      <th>...</th>\n      <td>...</td>\n    </tr>\n    <tr>\n      <th>95</th>\n      <td>9404.0</td>\n    </tr>\n    <tr>\n      <th>96</th>\n      <td>9412.0</td>\n    </tr>\n    <tr>\n      <th>97</th>\n      <td>9494.0</td>\n    </tr>\n    <tr>\n      <th>98</th>\n      <td>255330.0</td>\n    </tr>\n    <tr>\n      <th>99</th>\n      <td>255330.0</td>\n    </tr>\n  </tbody>\n</table>\n<p>100 rows × 1 columns</p>\n</div>"
     },
     "execution_count": 108,
     "metadata": {},
     "output_type": "execute_result"
    }
   ],
   "source": [
    "relieff_promil_pd = results_transform(relieff_promil)\n",
    "relieff_procent_pd = results_transform(relieff_procent)\n",
    "relieff_10procentov_pd = results_transform(relieff_10procentov)\n",
    "relieff_33procentov_pd = results_transform(relieff_33procentov)\n",
    "\n",
    "relieff_promil_pd"
   ],
   "metadata": {
    "collapsed": false
   }
  },
  {
   "cell_type": "code",
   "execution_count": 109,
   "outputs": [],
   "source": [
    "gd_singles, gd_first_gen = prepare_gd()"
   ],
   "metadata": {
    "collapsed": false
   }
  },
  {
   "cell_type": "code",
   "execution_count": 113,
   "outputs": [
    {
     "name": "stdout",
     "output_type": "stream",
     "text": [
      "relieff_promil_evaluated: (0.8224700130720496, 0.744032342866586)\n",
      "relieff_procent_evaluated: (0.8370984227548818, 0.733525658248738)\n",
      "relieff_10procentov_evaluated: (0.8514649310560692, 0.7461393376478086)\n",
      "relieff_33procentov_evaluated: (0.8451238848308656, 0.7523493111288934)\n"
     ]
    }
   ],
   "source": [
    "relieff_promil_evaluated = evaluate_results(relieff_promil_pd, gd_singles, gd_first_gen)\n",
    "relieff_procent_evaluated = evaluate_results(relieff_procent_pd, gd_singles, gd_first_gen)\n",
    "relieff_10procentov_evaluated = evaluate_results(relieff_10procentov_pd, gd_singles, gd_first_gen)\n",
    "relieff_33procentov_evaluated = evaluate_results(relieff_33procentov_pd, gd_singles, gd_first_gen)\n",
    "\n",
    "print(f\"relieff_promil_evaluated: {relieff_promil_evaluated}\")\n",
    "print(f\"relieff_procent_evaluated: {relieff_procent_evaluated}\")\n",
    "print(f\"relieff_10procentov_evaluated: {relieff_10procentov_evaluated}\")\n",
    "print(f\"relieff_33procentov_evaluated: {relieff_33procentov_evaluated}\")"
   ],
   "metadata": {
    "collapsed": false
   }
  },
  {
   "cell_type": "markdown",
   "source": [
    "## Sampling dataset\n",
    "\n",
    "### Mutual info on 10% of data"
   ],
   "metadata": {
    "collapsed": false
   }
  },
  {
   "cell_type": "code",
   "execution_count": 9,
   "outputs": [
    {
     "name": "stdout",
     "output_type": "stream",
     "text": [
      "i: 0\n",
      "Function 'score' took 52.96635 seconds to execute.\n",
      "sampled_data_evaluated: (0.7945924429439937, 0.8152834507652769)\n",
      "i: 1\n",
      "Function 'score' took 51.63961 seconds to execute.\n",
      "sampled_data_evaluated: (0.8338229233055444, 0.8387649072599701)\n",
      "i: 2\n",
      "Function 'score' took 52.21717 seconds to execute.\n",
      "sampled_data_evaluated: (0.8080196195027579, 0.8174499277234222)\n",
      "i: 3\n",
      "Function 'score' took 51.86779 seconds to execute.\n",
      "sampled_data_evaluated: (0.8053468942839838, 0.8273606565417809)\n",
      "i: 4\n",
      "Function 'score' took 51.83036 seconds to execute.\n",
      "sampled_data_evaluated: (0.7990779681896253, 0.8242307668803659)\n",
      "i: 5\n",
      "Function 'score' took 51.57149 seconds to execute.\n",
      "sampled_data_evaluated: (0.8122215452251347, 0.8309075928210347)\n",
      "i: 6\n",
      "Function 'score' took 51.48155 seconds to execute.\n",
      "sampled_data_evaluated: (0.8174477232294042, 0.8357676373104727)\n",
      "i: 7\n",
      "Function 'score' took 52.01566 seconds to execute.\n",
      "sampled_data_evaluated: (0.8013406895757268, 0.8179790800546448)\n",
      "i: 8\n",
      "Function 'score' took 51.85754 seconds to execute.\n",
      "sampled_data_evaluated: (0.8104881952410772, 0.8244837916600456)\n",
      "i: 9\n",
      "Function 'score' took 51.92487 seconds to execute.\n",
      "sampled_data_evaluated: (0.8026464850195472, 0.8229584548860266)\n"
     ]
    }
   ],
   "source": [
    "# factorize data\n",
    "data_factorized = data.apply(lambda x : pd.factorize(x)[0])\n",
    "\n",
    "singles_scores = []\n",
    "first_gen_scores = []\n",
    "\n",
    "for i in range(0, 100):\n",
    "    print(f\"i: {i}\")\n",
    "    sampled_data = data_factorized.sample(n=15000, random_state=i)\n",
    "    evaluator = rep.RankEval(data_factorized, rank_method=rank_algos.mutual_info_score, eval_method=eval_algos.fuzzy_jaccard)\n",
    "    sampled_data_evaluated = evaluator.evaluate()\n",
    "    singles_scores.append(sampled_data_evaluated[0])\n",
    "    first_gen_scores.append(sampled_data_evaluated[1])\n",
    "    print(f\"sampled_data_evaluated: {sampled_data_evaluated}\")"
   ],
   "metadata": {
    "collapsed": false
   }
  },
  {
   "cell_type": "code",
   "execution_count": 10,
   "outputs": [
    {
     "name": "stdout",
     "output_type": "stream",
     "text": [
      "singles_scores: 0.809 ± 0.011\n",
      "first_gen_scores: 0.826 ± 0.007\n"
     ]
    }
   ],
   "source": [
    "# mean and std\n",
    "singles_scores_mean = np.mean(singles_scores)\n",
    "singles_scores_std = np.std(singles_scores)\n",
    "first_gen_scores_mean = np.mean(first_gen_scores)\n",
    "first_gen_scores_std = np.std(first_gen_scores)\n",
    "\n",
    "round_dec = 3\n",
    "print(f\"singles_scores: {round(singles_scores_mean, round_dec)} +- {round(singles_scores_std, round_dec)}\")\n",
    "print(f\"first_gen_scores: {round(first_gen_scores_mean, round_dec)} +- {round(first_gen_scores_std, round_dec)}\")"
   ],
   "metadata": {
    "collapsed": false
   }
  },
  {
   "cell_type": "code",
   "execution_count": 90,
   "outputs": [
    {
     "data": {
      "text/plain": "      feature     score\n99  feature99  1.713968\n98  feature98  1.713968\n4    feature4  1.713968\n64  feature64  1.418968\n63  feature63  1.328968\n..        ...       ...\n10  feature10  0.000000\n43  feature43  0.000000\n41  feature41  0.000000\n40  feature40  0.000000\n0    feature0  0.000000\n\n[100 rows x 2 columns]",
      "text/html": "<div>\n<style scoped>\n    .dataframe tbody tr th:only-of-type {\n        vertical-align: middle;\n    }\n\n    .dataframe tbody tr th {\n        vertical-align: top;\n    }\n\n    .dataframe thead th {\n        text-align: right;\n    }\n</style>\n<table border=\"1\" class=\"dataframe\">\n  <thead>\n    <tr style=\"text-align: right;\">\n      <th></th>\n      <th>feature</th>\n      <th>score</th>\n    </tr>\n  </thead>\n  <tbody>\n    <tr>\n      <th>99</th>\n      <td>feature99</td>\n      <td>1.713968</td>\n    </tr>\n    <tr>\n      <th>98</th>\n      <td>feature98</td>\n      <td>1.713968</td>\n    </tr>\n    <tr>\n      <th>4</th>\n      <td>feature4</td>\n      <td>1.713968</td>\n    </tr>\n    <tr>\n      <th>64</th>\n      <td>feature64</td>\n      <td>1.418968</td>\n    </tr>\n    <tr>\n      <th>63</th>\n      <td>feature63</td>\n      <td>1.328968</td>\n    </tr>\n    <tr>\n      <th>...</th>\n      <td>...</td>\n      <td>...</td>\n    </tr>\n    <tr>\n      <th>10</th>\n      <td>feature10</td>\n      <td>0.000000</td>\n    </tr>\n    <tr>\n      <th>43</th>\n      <td>feature43</td>\n      <td>0.000000</td>\n    </tr>\n    <tr>\n      <th>41</th>\n      <td>feature41</td>\n      <td>0.000000</td>\n    </tr>\n    <tr>\n      <th>40</th>\n      <td>feature40</td>\n      <td>0.000000</td>\n    </tr>\n    <tr>\n      <th>0</th>\n      <td>feature0</td>\n      <td>0.000000</td>\n    </tr>\n  </tbody>\n</table>\n<p>100 rows × 2 columns</p>\n</div>"
     },
     "execution_count": 90,
     "metadata": {},
     "output_type": "execute_result"
    }
   ],
   "source": [
    "# sort evaluator.\n",
    "evaluator.df_scores.sort_values(by=['score'], ascending=False)"
   ],
   "metadata": {
    "collapsed": false
   }
  }
 ],
 "metadata": {
  "kernelspec": {
   "display_name": "Python 3",
   "language": "python",
   "name": "python3"
  },
  "language_info": {
   "codemirror_mode": {
    "name": "ipython",
    "version": 2
   },
   "file_extension": ".py",
   "mimetype": "text/x-python",
   "name": "python",
   "nbconvert_exporter": "python",
   "pygments_lexer": "ipython2",
   "version": "2.7.6"
  }
 },
 "nbformat": 4,
 "nbformat_minor": 0
}
