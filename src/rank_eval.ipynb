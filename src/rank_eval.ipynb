{
 "cells": [
  {
   "cell_type": "code",
   "execution_count": 15,
   "outputs": [
    {
     "name": "stdout",
     "output_type": "stream",
     "text": [
      "UMAP not found! This means that you need to provide your own embedding method for ReliefE to work.\n"
     ]
    }
   ],
   "source": [
    "import pandas as pd\n",
    "import numpy as np\n",
    "import importlib\n",
    "import time\n",
    "\n",
    "import rank_eval_pipeline as rep\n",
    "import rank_algos\n",
    "import eval_algos\n",
    "\n",
    "%load_ext autoreload\n",
    "%autoreload 2"
   ],
   "metadata": {
    "collapsed": false
   }
  },
  {
   "cell_type": "code",
   "execution_count": 16,
   "outputs": [
    {
     "data": {
      "text/plain": "    info_click_valid    feature0    feature1    feature2    feature3  \\\n0                  1  3282490636  3723861767   592628169  2093237750   \n1                  1  2736633149  3188050045  3599848058  2300041243   \n2                  1  1067402948   108565582  2502341442  3474641266   \n3                  1  3634365896  2567512859   753387811  2124887610   \n4                  1  3282490636  1241498584    99521842   868270843   \n..               ...         ...         ...         ...         ...   \n95                 0   700937091   362150164  3932439768  3019250116   \n96                 0  3282490636  2819363971  3165653309    38339099   \n97                 0  3282490636   725982970   724167595  1980649076   \n98                 0   702899251  2500864415  3930445342  1638657508   \n99                 0  2602737163  3129049726  1108685941   619972387   \n\n      feature4    feature5    feature6    feature7    feature8  ...  \\\n0   3617548381  2965721776  3543218850  1072184752  1418147852  ...   \n1   3503728323  1531702445  3543218850  2634671414  2266512440  ...   \n2   3503728323  1531702445  3543218850  4108477053   870407079  ...   \n3   3503728323  2965721776  3543218850  4108477053  3981694603  ...   \n4   3503728323  1531702445  3543218850  4108477053  3377404711  ...   \n..         ...         ...         ...         ...         ...  ...   \n95  3503728323  1531702445  3543218850  3371001158  2410716069  ...   \n96  3503728323  2965721776  3543218850  2265512916  2246703601  ...   \n97  3503728323  2965721776  3543218850  3371001158  2619780321  ...   \n98  3503728323  1531702445  3543218850  2537517239  3343330775  ...   \n99  3503728323  1531702445  3543218850  2265512916  2858004814  ...   \n\n     feature90   feature91   feature92   feature93   feature94  feature95  \\\n0   3637550824  3790689556  2087688982  3899436442  3255798468  355094504   \n1   3637550824  3790689556  2087688982  3899436442  3255798468  355094504   \n2    147472623  3508206064  2087688982  3899436442  3255798468  355094504   \n3    147472623  3508206064  2087688982  3899436442  3255798468  355094504   \n4    147472623  2450605253  2087688982  3899436442  3255798468  355094504   \n..         ...         ...         ...         ...         ...        ...   \n95  3637550824  3790689556  2087688982  3899436442  3255798468  355094504   \n96  3637550824  3790689556  2087688982  3899436442  3255798468  355094504   \n97  3637550824  3790689556  2087688982  3899436442  3255798468  355094504   \n98  3637550824  3790689556  2087688982  3899436442  3255798468  355094504   \n99  3637550824  3790689556  2087688982  3899436442  3255798468  355094504   \n\n     feature96   feature97   feature98   feature99  \n0   3479975775  3411024218  3656293508  2846559631  \n1   3479975775  3411024218  3656293508  2846559631  \n2   3479975775  3411024218  3656293508  2846559631  \n3   3479975775  3411024218  3656293508  2846559631  \n4   3479975775  3411024218  3656293508  2846559631  \n..         ...         ...         ...         ...  \n95  3479975775  3411024218   680663615  3956900602  \n96  3479975775  3411024218   680663615  3956900602  \n97  3479975775  3411024218   680663615  3956900602  \n98  3479975775  3411024218   680663615  3956900602  \n99  3479975775  3411024218   680663615  3956900602  \n\n[100 rows x 101 columns]",
      "text/html": "<div>\n<style scoped>\n    .dataframe tbody tr th:only-of-type {\n        vertical-align: middle;\n    }\n\n    .dataframe tbody tr th {\n        vertical-align: top;\n    }\n\n    .dataframe thead th {\n        text-align: right;\n    }\n</style>\n<table border=\"1\" class=\"dataframe\">\n  <thead>\n    <tr style=\"text-align: right;\">\n      <th></th>\n      <th>info_click_valid</th>\n      <th>feature0</th>\n      <th>feature1</th>\n      <th>feature2</th>\n      <th>feature3</th>\n      <th>feature4</th>\n      <th>feature5</th>\n      <th>feature6</th>\n      <th>feature7</th>\n      <th>feature8</th>\n      <th>...</th>\n      <th>feature90</th>\n      <th>feature91</th>\n      <th>feature92</th>\n      <th>feature93</th>\n      <th>feature94</th>\n      <th>feature95</th>\n      <th>feature96</th>\n      <th>feature97</th>\n      <th>feature98</th>\n      <th>feature99</th>\n    </tr>\n  </thead>\n  <tbody>\n    <tr>\n      <th>0</th>\n      <td>1</td>\n      <td>3282490636</td>\n      <td>3723861767</td>\n      <td>592628169</td>\n      <td>2093237750</td>\n      <td>3617548381</td>\n      <td>2965721776</td>\n      <td>3543218850</td>\n      <td>1072184752</td>\n      <td>1418147852</td>\n      <td>...</td>\n      <td>3637550824</td>\n      <td>3790689556</td>\n      <td>2087688982</td>\n      <td>3899436442</td>\n      <td>3255798468</td>\n      <td>355094504</td>\n      <td>3479975775</td>\n      <td>3411024218</td>\n      <td>3656293508</td>\n      <td>2846559631</td>\n    </tr>\n    <tr>\n      <th>1</th>\n      <td>1</td>\n      <td>2736633149</td>\n      <td>3188050045</td>\n      <td>3599848058</td>\n      <td>2300041243</td>\n      <td>3503728323</td>\n      <td>1531702445</td>\n      <td>3543218850</td>\n      <td>2634671414</td>\n      <td>2266512440</td>\n      <td>...</td>\n      <td>3637550824</td>\n      <td>3790689556</td>\n      <td>2087688982</td>\n      <td>3899436442</td>\n      <td>3255798468</td>\n      <td>355094504</td>\n      <td>3479975775</td>\n      <td>3411024218</td>\n      <td>3656293508</td>\n      <td>2846559631</td>\n    </tr>\n    <tr>\n      <th>2</th>\n      <td>1</td>\n      <td>1067402948</td>\n      <td>108565582</td>\n      <td>2502341442</td>\n      <td>3474641266</td>\n      <td>3503728323</td>\n      <td>1531702445</td>\n      <td>3543218850</td>\n      <td>4108477053</td>\n      <td>870407079</td>\n      <td>...</td>\n      <td>147472623</td>\n      <td>3508206064</td>\n      <td>2087688982</td>\n      <td>3899436442</td>\n      <td>3255798468</td>\n      <td>355094504</td>\n      <td>3479975775</td>\n      <td>3411024218</td>\n      <td>3656293508</td>\n      <td>2846559631</td>\n    </tr>\n    <tr>\n      <th>3</th>\n      <td>1</td>\n      <td>3634365896</td>\n      <td>2567512859</td>\n      <td>753387811</td>\n      <td>2124887610</td>\n      <td>3503728323</td>\n      <td>2965721776</td>\n      <td>3543218850</td>\n      <td>4108477053</td>\n      <td>3981694603</td>\n      <td>...</td>\n      <td>147472623</td>\n      <td>3508206064</td>\n      <td>2087688982</td>\n      <td>3899436442</td>\n      <td>3255798468</td>\n      <td>355094504</td>\n      <td>3479975775</td>\n      <td>3411024218</td>\n      <td>3656293508</td>\n      <td>2846559631</td>\n    </tr>\n    <tr>\n      <th>4</th>\n      <td>1</td>\n      <td>3282490636</td>\n      <td>1241498584</td>\n      <td>99521842</td>\n      <td>868270843</td>\n      <td>3503728323</td>\n      <td>1531702445</td>\n      <td>3543218850</td>\n      <td>4108477053</td>\n      <td>3377404711</td>\n      <td>...</td>\n      <td>147472623</td>\n      <td>2450605253</td>\n      <td>2087688982</td>\n      <td>3899436442</td>\n      <td>3255798468</td>\n      <td>355094504</td>\n      <td>3479975775</td>\n      <td>3411024218</td>\n      <td>3656293508</td>\n      <td>2846559631</td>\n    </tr>\n    <tr>\n      <th>...</th>\n      <td>...</td>\n      <td>...</td>\n      <td>...</td>\n      <td>...</td>\n      <td>...</td>\n      <td>...</td>\n      <td>...</td>\n      <td>...</td>\n      <td>...</td>\n      <td>...</td>\n      <td>...</td>\n      <td>...</td>\n      <td>...</td>\n      <td>...</td>\n      <td>...</td>\n      <td>...</td>\n      <td>...</td>\n      <td>...</td>\n      <td>...</td>\n      <td>...</td>\n      <td>...</td>\n    </tr>\n    <tr>\n      <th>95</th>\n      <td>0</td>\n      <td>700937091</td>\n      <td>362150164</td>\n      <td>3932439768</td>\n      <td>3019250116</td>\n      <td>3503728323</td>\n      <td>1531702445</td>\n      <td>3543218850</td>\n      <td>3371001158</td>\n      <td>2410716069</td>\n      <td>...</td>\n      <td>3637550824</td>\n      <td>3790689556</td>\n      <td>2087688982</td>\n      <td>3899436442</td>\n      <td>3255798468</td>\n      <td>355094504</td>\n      <td>3479975775</td>\n      <td>3411024218</td>\n      <td>680663615</td>\n      <td>3956900602</td>\n    </tr>\n    <tr>\n      <th>96</th>\n      <td>0</td>\n      <td>3282490636</td>\n      <td>2819363971</td>\n      <td>3165653309</td>\n      <td>38339099</td>\n      <td>3503728323</td>\n      <td>2965721776</td>\n      <td>3543218850</td>\n      <td>2265512916</td>\n      <td>2246703601</td>\n      <td>...</td>\n      <td>3637550824</td>\n      <td>3790689556</td>\n      <td>2087688982</td>\n      <td>3899436442</td>\n      <td>3255798468</td>\n      <td>355094504</td>\n      <td>3479975775</td>\n      <td>3411024218</td>\n      <td>680663615</td>\n      <td>3956900602</td>\n    </tr>\n    <tr>\n      <th>97</th>\n      <td>0</td>\n      <td>3282490636</td>\n      <td>725982970</td>\n      <td>724167595</td>\n      <td>1980649076</td>\n      <td>3503728323</td>\n      <td>2965721776</td>\n      <td>3543218850</td>\n      <td>3371001158</td>\n      <td>2619780321</td>\n      <td>...</td>\n      <td>3637550824</td>\n      <td>3790689556</td>\n      <td>2087688982</td>\n      <td>3899436442</td>\n      <td>3255798468</td>\n      <td>355094504</td>\n      <td>3479975775</td>\n      <td>3411024218</td>\n      <td>680663615</td>\n      <td>3956900602</td>\n    </tr>\n    <tr>\n      <th>98</th>\n      <td>0</td>\n      <td>702899251</td>\n      <td>2500864415</td>\n      <td>3930445342</td>\n      <td>1638657508</td>\n      <td>3503728323</td>\n      <td>1531702445</td>\n      <td>3543218850</td>\n      <td>2537517239</td>\n      <td>3343330775</td>\n      <td>...</td>\n      <td>3637550824</td>\n      <td>3790689556</td>\n      <td>2087688982</td>\n      <td>3899436442</td>\n      <td>3255798468</td>\n      <td>355094504</td>\n      <td>3479975775</td>\n      <td>3411024218</td>\n      <td>680663615</td>\n      <td>3956900602</td>\n    </tr>\n    <tr>\n      <th>99</th>\n      <td>0</td>\n      <td>2602737163</td>\n      <td>3129049726</td>\n      <td>1108685941</td>\n      <td>619972387</td>\n      <td>3503728323</td>\n      <td>1531702445</td>\n      <td>3543218850</td>\n      <td>2265512916</td>\n      <td>2858004814</td>\n      <td>...</td>\n      <td>3637550824</td>\n      <td>3790689556</td>\n      <td>2087688982</td>\n      <td>3899436442</td>\n      <td>3255798468</td>\n      <td>355094504</td>\n      <td>3479975775</td>\n      <td>3411024218</td>\n      <td>680663615</td>\n      <td>3956900602</td>\n    </tr>\n  </tbody>\n</table>\n<p>100 rows × 101 columns</p>\n</div>"
     },
     "execution_count": 16,
     "metadata": {},
     "output_type": "execute_result"
    }
   ],
   "source": [
    "data = pd.read_csv('data/full_data.csv')\n",
    "data.head(100)"
   ],
   "metadata": {
    "collapsed": false
   }
  },
  {
   "cell_type": "code",
   "execution_count": 17,
   "outputs": [],
   "source": [
    "rank_method = rank_algos.mutual_info_score\n",
    "eval_method = eval_algos.fuzzy_jaccard\n",
    "\n",
    "rank_eval = rep.RankEval(data.head(100), rank_method, eval_method)"
   ],
   "metadata": {
    "collapsed": false
   }
  },
  {
   "cell_type": "markdown",
   "source": [
    "### Mutual info results (on all data)"
   ],
   "metadata": {
    "collapsed": false
   }
  },
  {
   "cell_type": "code",
   "execution_count": 18,
   "outputs": [],
   "source": [
    "# mutual info on full data results:\n",
    "results = np.array([0.09717625, 0.06888329, 0.06126243, 0.06269187, 0.17329753, 0.14716816\n",
    "        , 0.19778081, 0.07532905, 0.0766885, 0.06631544, 0.06275608, 0.04218489\n",
    "        , 0.15705678, 0.13656907, 0.19607233, 0.20788328, 0.23036554, 0.10723845\n",
    "        , 0.05922656, 0.06632573, 0.07530304, 0.0628231, 0.0557336, 0.08918849\n",
    "        , 0.20410476, 0.13251569, 0.05500895, 0.18283456, 0.02394768, 0.03650781\n",
    "        , 0.07144077, 0.15222733, 0.18366797, 0.06169769, 0.00195838, 0.18430796\n",
    "        , 0.14075448, 0.1427426, 0.12788617, 0.17901007, 0.17435444, 0.1229047\n",
    "        , 0.13191568, 0.09527463, 0.0694764, 0.14802611, 0.12330489, 0.12995531\n",
    "        , 0.16931972, 0.08140305, 0.11965908, 0.11227323, 0.10220764, 0.17162563\n",
    "        , 0.14953368, 0.06142728, 0.1352397, 0.06594784, 0.06246859, 0.01162358\n",
    "        , 0.06505164, 0.11061847, 0.15131267, 0.09317203, 0.10165634, 0.15379381\n",
    "        , 0.16504244, 0.11004817, 0.10467595, 0.04368644, 0.24423437, 0.03381416\n",
    "        , 0.21592521, 0.17266281, 0.22476187, 0.21147982, 0.25214441, 0.1834268\n",
    "        , 0.20025225, 0.21258738, 0.2518063, 0.04038459, 0.07872028, 0.05843621\n",
    "        , 0.05958591, 0.08510234, 0.06077662, 0.07338735, 0.06669493, 0.06683989\n",
    "        , 0.19029739, 0.18159669, 0.17475133, 0.18460458, 0.21162839, 0.22964289\n",
    "        , 0.20058981, 0.20365378, 0.53797382, 0.70876002])"
   ],
   "metadata": {
    "collapsed": false
   }
  },
  {
   "cell_type": "code",
   "execution_count": 19,
   "outputs": [],
   "source": [
    "gds = eval_algos.get_ground_truths()\n",
    "\n",
    "gd_singles = gds[0][\"rig\"].to_numpy().astype(float)\n",
    "gd_first_gen = gds[1][\"rig\"].to_numpy().astype(float)\n",
    "\n",
    "# add min value to gd_singles to make it positive\n",
    "gd_singles = gd_singles + abs(gd_singles.min())\n",
    "gd_first_gen = gd_first_gen + abs(gd_first_gen.min())"
   ],
   "metadata": {
    "collapsed": false
   }
  },
  {
   "cell_type": "code",
   "execution_count": 20,
   "outputs": [
    {
     "ename": "AttributeError",
     "evalue": "'RankEval' object has no attribute 'evaluate'",
     "output_type": "error",
     "traceback": [
      "\u001B[1;31m---------------------------------------------------------------------------\u001B[0m",
      "\u001B[1;31mAttributeError\u001B[0m                            Traceback (most recent call last)",
      "Cell \u001B[1;32mIn[20], line 7\u001B[0m\n\u001B[0;32m      4\u001B[0m rank_eval\u001B[38;5;241m.\u001B[39mground_truth_singles \u001B[38;5;241m=\u001B[39m gd_singles\n\u001B[0;32m      5\u001B[0m rank_eval\u001B[38;5;241m.\u001B[39mground_truth_first_gen \u001B[38;5;241m=\u001B[39m gd_first_gen\n\u001B[1;32m----> 7\u001B[0m \u001B[43mrank_eval\u001B[49m\u001B[38;5;241;43m.\u001B[39;49m\u001B[43mevaluate\u001B[49m(eval_only\u001B[38;5;241m=\u001B[39m\u001B[38;5;28;01mTrue\u001B[39;00m)\n",
      "\u001B[1;31mAttributeError\u001B[0m: 'RankEval' object has no attribute 'evaluate'"
     ]
    }
   ],
   "source": [
    "importlib.reload(rep)\n",
    "\n",
    "rank_eval.df_scores = results\n",
    "rank_eval.ground_truth_singles = gd_singles\n",
    "rank_eval.ground_truth_first_gen = gd_first_gen\n",
    "\n",
    "rank_eval.evaluate(eval_only=True)"
   ],
   "metadata": {
    "collapsed": false
   }
  },
  {
   "cell_type": "code",
   "execution_count": null,
   "outputs": [],
   "source": [
    "importlib.reload(eval_algos)\n",
    "\n",
    "gds = eval_algos.get_ground_truths_ordered()\n",
    "\n",
    "gd_singles = gds[0][:10]\n",
    "gd_first_gen = gds[1][:10]\n",
    "\n",
    "# add feature names to results\n",
    "results = pd.DataFrame(results, columns=[\"score\"])\n",
    "results[\"feature\"] = range(0, len(results))\n",
    "print(results)\n",
    "\n",
    "print(gd_singles)\n",
    "print(gd_first_gen)\n",
    "print(results[:10])"
   ],
   "metadata": {
    "collapsed": false
   }
  },
  {
   "cell_type": "code",
   "execution_count": null,
   "outputs": [],
   "source": [
    "a_singles = gd_singles[\"rig\"].to_numpy(float)\n",
    "a_first_gen = gd_first_gen[\"rig\"].to_numpy(float)\n",
    "\n",
    "b_singles = results[:10][\"feature\"].to_numpy(float)\n",
    "b_first_gen = results[:10][\"feature\"].to_numpy(float)\n",
    "\n",
    "print(eval_algos.fuzzy_jaccard(a_singles, b_singles)[1])\n",
    "print(eval_algos.fuzzy_jaccard(a_first_gen, b_first_gen)[1])"
   ],
   "metadata": {
    "collapsed": false
   }
  },
  {
   "cell_type": "markdown",
   "source": [
    "### ReliefF results"
   ],
   "metadata": {
    "collapsed": false
   }
  },
  {
   "cell_type": "code",
   "execution_count": null,
   "outputs": [],
   "source": [
    "eval_method = eval_algos.fuzzy_jaccard\n",
    "rank_eval = rep.RankEval(data.head(100), rank_method, eval_method)"
   ],
   "metadata": {
    "collapsed": false
   }
  },
  {
   "cell_type": "code",
   "execution_count": null,
   "outputs": [],
   "source": [
    "def results_transform(results: dict):\n",
    " results_pd = pd.DataFrame.from_dict(results, orient='index')      # change dict to pd dataframe\n",
    " results_pd = results_pd.sort_index()      # sort by index\n",
    " results_pd = results_pd.astype(float)      # change type to float\n",
    " results_pd = results_pd + abs(results_pd.min())     # change negative values to positive\n",
    "\n",
    " return results_pd\n",
    "\n",
    "def prepare_gd():\n",
    " gds = eval_algos.get_ground_truths()\n",
    "\n",
    " gd_singles = gds[0][\"rig\"].to_numpy().astype(float)\n",
    " gd_first_gen = gds[1][\"rig\"].to_numpy().astype(float)\n",
    "\n",
    " gd_singles = gd_singles + abs(gd_singles.min())\n",
    " gd_first_gen = gd_first_gen + abs(gd_first_gen.min())\n",
    "\n",
    " return gd_singles, gd_first_gen\n",
    "\n",
    "def evaluate_results(results_pd, gd_singles, gd_first_gen):\n",
    " rank_eval.df_scores = results_pd[0].to_numpy().astype(float)\n",
    " rank_eval.ground_truth_singles = gd_singles\n",
    " rank_eval.ground_truth_first_gen = gd_first_gen\n",
    "\n",
    " return rank_eval.evaluate(eval_only=True)"
   ],
   "metadata": {
    "collapsed": false
   }
  },
  {
   "cell_type": "code",
   "execution_count": null,
   "outputs": [],
   "source": [
    "relieff_promil = {99: 157200.0,\n",
    " 98: 157200.0,\n",
    " 6: 98138.0,\n",
    " 74: 98138.0,\n",
    " 75: 98138.0,\n",
    " 76: 98138.0,\n",
    " 77: 98138.0,\n",
    " 78: 98138.0,\n",
    " 79: 77578.0,\n",
    " 80: 78786.0,\n",
    " 70: -88722.0,\n",
    " 73: -88722.0,\n",
    " 92: -88722.0,\n",
    " 93: -88722.0,\n",
    " 94: -88722.0,\n",
    " 95: -88726.0,\n",
    " 96: -88718.0,\n",
    " 97: -88636.0,\n",
    " 72: -88146.0,\n",
    " 16: 98138.0,\n",
    " 34: 98138.0,\n",
    " 35: 98138.0,\n",
    " 14: 98138.0,\n",
    " 48: 98138.0,\n",
    " 27: 98138.0,\n",
    " 90: 98138.0,\n",
    " 32: 98138.0,\n",
    " 15: 96842.0,\n",
    " 91: -25630.0,\n",
    " 24: 98138.0,\n",
    " 4: 10452.0,\n",
    " 39: 7998.0,\n",
    " 25: -14532.0,\n",
    " 42: 36396.0,\n",
    " 40: 42478.0,\n",
    " 65: -22012.0,\n",
    " 62: -15334.0,\n",
    " 53: 40912.0,\n",
    " 37: 18610.0,\n",
    " 38: -82762.0,\n",
    " 36: 5904.0,\n",
    " 5: -86480.0,\n",
    " 66: -94110.0,\n",
    " 28: 14004.0,\n",
    " 12: -93936.0,\n",
    " 45: 20234.0,\n",
    " 13: 40816.0,\n",
    " 54: 18148.0,\n",
    " 46: 9612.0,\n",
    " 61: -484.0,\n",
    " 52: -52750.0,\n",
    " 31: 82902.0,\n",
    " 47: 16064.0,\n",
    " 56: 18654.0,\n",
    " 41: 29386.0,\n",
    " 69: -72916.0,\n",
    " 51: 3936.0,\n",
    " 68: 56116.0,\n",
    " 59: 10962.0,\n",
    " 43: 55094.0,\n",
    " 50: 56562.0,\n",
    " 11: 40414.0,\n",
    " 67: 40748.0,\n",
    " 63: 38318.0,\n",
    " 64: 84274.0,\n",
    " 71: 87800.0,\n",
    " 30: -98130.0,\n",
    " 17: 78704.0,\n",
    " 29: 17346.0,\n",
    " 49: -35198.0,\n",
    " 18: -45148.0,\n",
    " 26: 30502.0,\n",
    " 0: 82826.0,\n",
    " 7: -63702.0,\n",
    " 44: 56232.0,\n",
    " 20: 66908.0,\n",
    " 8: -85698.0,\n",
    " 9: -93780.0,\n",
    " 19: -92534.0,\n",
    " 60: -74840.0,\n",
    " 23: -81542.0,\n",
    " 58: -56948.0,\n",
    " 81: -41030.0,\n",
    " 82: 93800.0,\n",
    " 83: 78222.0,\n",
    " 85: 82956.0,\n",
    " 86: 26508.0,\n",
    " 87: 30282.0,\n",
    " 88: -14068.0,\n",
    " 89: -93778.0,\n",
    " 84: -80580.0,\n",
    " 1: -80578.0,\n",
    " 21: -70330.0,\n",
    " 10: 98138.0,\n",
    " 22: 38122.0,\n",
    " 55: 56834.0,\n",
    " 57: -94806.0,\n",
    " 3: -96098.0,\n",
    " 2: -92044.0,\n",
    " 33: -64788.0}\n",
    "\n",
    "relieff_procent = {99: 1572800.0,\n",
    " 98: 1572800.0,\n",
    " 75: 1097214.0,\n",
    " 77: 1097214.0,\n",
    " 78: 1097214.0,\n",
    " 79: 1097214.0,\n",
    " 80: 1097214.0,\n",
    " 74: 1097214.0,\n",
    " 73: 912950.0,\n",
    " 70: 940584.0,\n",
    " 76: -990000.0,\n",
    " 92: -990000.0,\n",
    " 93: -990000.0,\n",
    " 94: -989994.0,\n",
    " 95: -990000.0,\n",
    " 96: -989960.0,\n",
    " 97: -989932.0,\n",
    " 6: -989538.0,\n",
    " 72: -982026.0,\n",
    " 16: 1097214.0,\n",
    " 34: 1097214.0,\n",
    " 14: 1097214.0,\n",
    " 90: 1097214.0,\n",
    " 32: 1097214.0,\n",
    " 35: 1097214.0,\n",
    " 91: 1097214.0,\n",
    " 48: 1097214.0,\n",
    " 27: 1077812.0,\n",
    " 15: -120804.0,\n",
    " 24: 1097214.0,\n",
    " 4: 210694.0,\n",
    " 39: 241728.0,\n",
    " 42: -85136.0,\n",
    " 40: 438014.0,\n",
    " 25: 545664.0,\n",
    " 62: -127670.0,\n",
    " 65: -33552.0,\n",
    " 45: 584622.0,\n",
    " 5: 444442.0,\n",
    " 53: -862940.0,\n",
    " 28: 89444.0,\n",
    " 13: -945620.0,\n",
    " 31: -1048056.0,\n",
    " 61: 395596.0,\n",
    " 37: -993510.0,\n",
    " 66: 299750.0,\n",
    " 38: 498046.0,\n",
    " 36: 255932.0,\n",
    " 12: 165972.0,\n",
    " 56: -4156.0,\n",
    " 54: -562128.0,\n",
    " 52: 906466.0,\n",
    " 46: 206042.0,\n",
    " 68: 249064.0,\n",
    " 69: 516584.0,\n",
    " 47: -572368.0,\n",
    " 51: 165628.0,\n",
    " 43: 686630.0,\n",
    " 41: 156432.0,\n",
    " 59: 661390.0,\n",
    " 50: 695066.0,\n",
    " 63: 433542.0,\n",
    " 11: 441630.0,\n",
    " 67: 408366.0,\n",
    " 71: 935474.0,\n",
    " 64: 985724.0,\n",
    " 30: -1096884.0,\n",
    " 17: 938548.0,\n",
    " 29: 456018.0,\n",
    " 26: -233278.0,\n",
    " 18: -328524.0,\n",
    " 49: 497980.0,\n",
    " 44: 902202.0,\n",
    " 0: -456852.0,\n",
    " 7: 622916.0,\n",
    " 8: 792492.0,\n",
    " 9: -928200.0,\n",
    " 20: -1039468.0,\n",
    " 19: -942056.0,\n",
    " 60: -749604.0,\n",
    " 1: -792516.0,\n",
    " 23: -557236.0,\n",
    " 10: -314724.0,\n",
    " 21: 1042880.0,\n",
    " 58: 875246.0,\n",
    " 3: 971768.0,\n",
    " 81: 491172.0,\n",
    " 82: 407722.0,\n",
    " 83: -72348.0,\n",
    " 84: -935652.0,\n",
    " 86: -730650.0,\n",
    " 85: -729920.0,\n",
    " 87: -663996.0,\n",
    " 88: 1095702.0,\n",
    " 89: 504550.0,\n",
    " 55: 732768.0,\n",
    " 2: -975644.0,\n",
    " 22: -1009346.0,\n",
    " 57: -890614.0,\n",
    " 33: -592118.0}\n",
    "\n",
    "relieff_10procentov = {99: 15728700.0,\n",
    " 98: 15728700.0,\n",
    " 70: 12141824.0,\n",
    " 97: 12141824.0,\n",
    " 96: 12141824.0,\n",
    " 95: 12141824.0,\n",
    " 94: 12141824.0,\n",
    " 93: 12141824.0,\n",
    " 92: 10619714.0,\n",
    " 75: 10998412.0,\n",
    " 76: -10736482.0,\n",
    " 77: -10736482.0,\n",
    " 78: -10736482.0,\n",
    " 79: -10736450.0,\n",
    " 80: -10736482.0,\n",
    " 74: -10735960.0,\n",
    " 73: -10735508.0,\n",
    " 6: -10729812.0,\n",
    " 72: -10646330.0,\n",
    " 16: 12140002.0,\n",
    " 14: 12140002.0,\n",
    " 90: 12140002.0,\n",
    " 32: 12140002.0,\n",
    " 34: 12140002.0,\n",
    " 91: 12140002.0,\n",
    " 48: 12140002.0,\n",
    " 35: 12140002.0,\n",
    " 27: 11937076.0,\n",
    " 15: 294892.0,\n",
    " 24: 12141824.0,\n",
    " 4: 3511436.0,\n",
    " 39: 4447360.0,\n",
    " 42: -385500.0,\n",
    " 25: 5024478.0,\n",
    " 31: 6476978.0,\n",
    " 62: -749820.0,\n",
    " 40: 409780.0,\n",
    " 45: 7294686.0,\n",
    " 5: 6092582.0,\n",
    " 13: -9142888.0,\n",
    " 65: 1344154.0,\n",
    " 56: -10098828.0,\n",
    " 28: -11472552.0,\n",
    " 61: 6377216.0,\n",
    " 53: -10105972.0,\n",
    " 12: 4312314.0,\n",
    " 37: 5435600.0,\n",
    " 66: 3541550.0,\n",
    " 38: 2856160.0,\n",
    " 36: 187390.0,\n",
    " 68: -5752988.0,\n",
    " 54: 10371082.0,\n",
    " 43: 2326250.0,\n",
    " 52: 3004622.0,\n",
    " 69: 7096854.0,\n",
    " 46: -2314792.0,\n",
    " 51: 3789598.0,\n",
    " 47: 7698936.0,\n",
    " 41: 1915902.0,\n",
    " 59: 7234264.0,\n",
    " 63: 7834936.0,\n",
    " 71: 4934584.0,\n",
    " 50: 5056292.0,\n",
    " 11: 4469552.0,\n",
    " 67: 10337318.0,\n",
    " 64: 10849062.0,\n",
    " 17: -12131116.0,\n",
    " 26: 10970072.0,\n",
    " 30: 7390012.0,\n",
    " 44: -1683034.0,\n",
    " 29: -2719398.0,\n",
    " 0: 6222192.0,\n",
    " 18: 10298882.0,\n",
    " 7: -1228896.0,\n",
    " 8: 7558094.0,\n",
    " 9: 8911430.0,\n",
    " 49: -9883166.0,\n",
    " 20: -11361618.0,\n",
    " 19: -8282190.0,\n",
    " 1: -6214150.0,\n",
    " 10: -6573784.0,\n",
    " 21: -4255182.0,\n",
    " 3: -1095396.0,\n",
    " 2: 11384942.0,\n",
    " 60: 9499810.0,\n",
    " 23: 11112332.0,\n",
    " 58: 6534996.0,\n",
    " 55: 5188838.0,\n",
    " 81: -74320.0,\n",
    " 82: -7462824.0,\n",
    " 83: -4925592.0,\n",
    " 84: -4918006.0,\n",
    " 86: -4482190.0,\n",
    " 87: 12115218.0,\n",
    " 88: 6813108.0,\n",
    " 89: 8871874.0,\n",
    " 85: -8396194.0,\n",
    " 22: -9119718.0,\n",
    " 57: -6747704.0,\n",
    " 33: -3857856.0}\n",
    "\n",
    "relieff_33procentov = {99: 52429200.0,\n",
    "  98: 52429200.0,\n",
    "  97: 42124574.0,\n",
    "  96: 42124574.0,\n",
    "  95: 42124574.0,\n",
    "  94: 42124574.0,\n",
    "  93: 42124574.0,\n",
    "  92: 42124574.0,\n",
    "  70: 37563292.0,\n",
    "  74: 38976552.0,\n",
    "  79: -36854262.0,\n",
    "  80: -36854262.0,\n",
    "  76: -36854262.0,\n",
    "  75: -36854214.0,\n",
    "  78: -36854254.0,\n",
    "  73: -36852032.0,\n",
    "  77: -36850762.0,\n",
    "  6: -36830858.0,\n",
    "  72: -36539924.0,\n",
    "  16: 42118002.0,\n",
    "  14: 42118002.0,\n",
    "  90: 42118002.0,\n",
    "  32: 42118002.0,\n",
    "  91: 42118002.0,\n",
    "  34: 42118002.0,\n",
    "  48: 42118002.0,\n",
    "  27: 42118002.0,\n",
    "  35: 41480896.0,\n",
    "  15: 4182956.0,\n",
    "  4: 42124574.0,\n",
    "  24: 13627738.0,\n",
    "  31: 18022546.0,\n",
    "  39: -900334.0,\n",
    "  25: 17885792.0,\n",
    "  42: 23313566.0,\n",
    "  62: -1064710.0,\n",
    "  45: 3137008.0,\n",
    "  5: 26641762.0,\n",
    "  40: 23039192.0,\n",
    "  56: -31048114.0,\n",
    "  13: 5496798.0,\n",
    "  65: -34239028.0,\n",
    "  61: -39515688.0,\n",
    "  28: 25047828.0,\n",
    "  12: -33027336.0,\n",
    "  53: 16358974.0,\n",
    "  68: 18954042.0,\n",
    "  66: 13051792.0,\n",
    "  37: 11221950.0,\n",
    "  38: 708742.0,\n",
    "  54: -19089190.0,\n",
    "  43: 36623380.0,\n",
    "  36: 8390722.0,\n",
    "  69: 11167152.0,\n",
    "  52: 26613824.0,\n",
    "  51: -824966.0,\n",
    "  46: 16352052.0,\n",
    "  47: 27005248.0,\n",
    "  41: 7088136.0,\n",
    "  59: 25077544.0,\n",
    "  71: 27492310.0,\n",
    "  63: 17364040.0,\n",
    "  26: 17874478.0,\n",
    "  11: 15517760.0,\n",
    "  50: 35731706.0,\n",
    "  17: 37525392.0,\n",
    "  44: -42062452.0,\n",
    "  67: 38873854.0,\n",
    "  64: 28737304.0,\n",
    "  30: -4055846.0,\n",
    "  0: -7650824.0,\n",
    "  29: 22742338.0,\n",
    "  7: 36369834.0,\n",
    "  8: 2600350.0,\n",
    "  9: 27138614.0,\n",
    "  18: 30892456.0,\n",
    "  1: -33392880.0,\n",
    "  20: -39081066.0,\n",
    "  19: -24079890.0,\n",
    "  49: -17478386.0,\n",
    "  10: -18497732.0,\n",
    "  3: -11030948.0,\n",
    "  21: 176350.0,\n",
    "  2: 39488256.0,\n",
    "  60: 33026806.0,\n",
    "  55: 39169514.0,\n",
    "  23: 24203064.0,\n",
    "  58: 19257694.0,\n",
    "  81: 1149230.0,\n",
    "  82: -19213572.0,\n",
    "  83: -10331862.0,\n",
    "  84: -10308920.0,\n",
    "  86: -9455266.0,\n",
    "  85: 42053438.0,\n",
    "  87: 26119596.0,\n",
    "  88: 32470432.0,\n",
    "  89: -23157424.0,\n",
    "  22: -26407768.0,\n",
    "  57: -16480526.0,\n",
    "  33: -7475866.0}"
   ],
   "metadata": {
    "collapsed": false
   }
  },
  {
   "cell_type": "code",
   "execution_count": null,
   "outputs": [],
   "source": [
    "relieff_promil_pd = results_transform(relieff_promil)\n",
    "relieff_procent_pd = results_transform(relieff_procent)\n",
    "relieff_10procentov_pd = results_transform(relieff_10procentov)\n",
    "relieff_33procentov_pd = results_transform(relieff_33procentov)\n",
    "\n",
    "relieff_promil_pd"
   ],
   "metadata": {
    "collapsed": false
   }
  },
  {
   "cell_type": "code",
   "execution_count": null,
   "outputs": [],
   "source": [
    "gd_singles, gd_first_gen = prepare_gd()"
   ],
   "metadata": {
    "collapsed": false
   }
  },
  {
   "cell_type": "code",
   "execution_count": null,
   "outputs": [],
   "source": [
    "relieff_promil_evaluated = evaluate_results(relieff_promil_pd, gd_singles, gd_first_gen)\n",
    "relieff_procent_evaluated = evaluate_results(relieff_procent_pd, gd_singles, gd_first_gen)\n",
    "relieff_10procentov_evaluated = evaluate_results(relieff_10procentov_pd, gd_singles, gd_first_gen)\n",
    "relieff_33procentov_evaluated = evaluate_results(relieff_33procentov_pd, gd_singles, gd_first_gen)\n",
    "\n",
    "print(f\"relieff_promil_evaluated: {relieff_promil_evaluated}\")\n",
    "print(f\"relieff_procent_evaluated: {relieff_procent_evaluated}\")\n",
    "print(f\"relieff_10procentov_evaluated: {relieff_10procentov_evaluated}\")\n",
    "print(f\"relieff_33procentov_evaluated: {relieff_33procentov_evaluated}\")"
   ],
   "metadata": {
    "collapsed": false
   }
  },
  {
   "cell_type": "markdown",
   "source": [
    "## Sampling dataset\n",
    "\n",
    "### Mutual info on 10% of data"
   ],
   "metadata": {
    "collapsed": false
   }
  },
  {
   "cell_type": "code",
   "execution_count": null,
   "outputs": [],
   "source": [
    "# factorize data\n",
    "data_factorized = data.apply(lambda x : pd.factorize(x)[0])\n",
    "\n",
    "singles_scores = []\n",
    "first_gen_scores = []\n",
    "\n",
    "for i in range(0, 100):\n",
    "    print(f\"i: {i}\")\n",
    "    sampled_data = data_factorized.sample(n=15000, random_state=i)\n",
    "    evaluator = rep.RankEval(data_factorized, rank_method=rank_algos.mutual_info_score, eval_method=eval_algos.fuzzy_jaccard)\n",
    "    sampled_data_evaluated = evaluator.evaluate()\n",
    "    singles_scores.append(sampled_data_evaluated[0])\n",
    "    first_gen_scores.append(sampled_data_evaluated[1])\n",
    "    print(f\"sampled_data_evaluated: {sampled_data_evaluated}\")"
   ],
   "metadata": {
    "collapsed": false
   }
  },
  {
   "cell_type": "code",
   "execution_count": null,
   "outputs": [],
   "source": [
    "# mean and std\n",
    "singles_scores_mean = np.mean(singles_scores)\n",
    "singles_scores_std = np.std(singles_scores)\n",
    "first_gen_scores_mean = np.mean(first_gen_scores)\n",
    "first_gen_scores_std = np.std(first_gen_scores)\n",
    "\n",
    "round_dec = 3\n",
    "print(f\"singles_scores: {round(singles_scores_mean, round_dec)} +- {round(singles_scores_std, round_dec)}\")\n",
    "print(f\"first_gen_scores: {round(first_gen_scores_mean, round_dec)} +- {round(first_gen_scores_std, round_dec)}\")"
   ],
   "metadata": {
    "collapsed": false
   }
  },
  {
   "cell_type": "code",
   "execution_count": null,
   "outputs": [],
   "source": [
    "# sort evaluator.\n",
    "evaluator.df_scores.sort_values(by=['score'], ascending=False)"
   ],
   "metadata": {
    "collapsed": false
   }
  },
  {
   "cell_type": "markdown",
   "source": [
    "# Mutual info results analysis"
   ],
   "metadata": {
    "collapsed": false
   }
  },
  {
   "cell_type": "code",
   "execution_count": 21,
   "outputs": [],
   "source": [
    "# ranking on all data\n",
    "ranking = ['feature99', 'feature98', 'feature45', 'feature13', 'feature56',\n",
    "       'feature23', 'feature61', 'feature81', 'feature22', 'feature58',\n",
    "       'feature57', 'feature86', 'feature87', 'feature84', 'feature89',\n",
    "       'feature88', 'feature82', 'feature85', 'feature83', 'feature31',\n",
    "       'feature60', 'feature63', 'feature33', 'feature17', 'feature68',\n",
    "       'feature5', 'feature55', 'feature32', 'feature90', 'feature7',\n",
    "       'feature91', 'feature14', 'feature44', 'feature50', 'feature8',\n",
    "       'feature67', 'feature9', 'feature0', 'feature1', 'feature4',\n",
    "       'feature48', 'feature27', 'feature26', 'feature20', 'feature65',\n",
    "       'feature19', 'feature40', 'feature30', 'feature39', 'feature69',\n",
    "       'feature29', 'feature2', 'feature25', 'feature10', 'feature49',\n",
    "       'feature3', 'feature41', 'feature12', 'feature11', 'feature21',\n",
    "       'feature15', 'feature42', 'feature53', 'feature37', 'feature52',\n",
    "       'feature46', 'feature71', 'feature59', 'feature43', 'feature18',\n",
    "       'feature24', 'feature28', 'feature38', 'feature34', 'feature36',\n",
    "       'feature51', 'feature75', 'feature16', 'feature66', 'feature54',\n",
    "       'feature47', 'feature95', 'feature62', 'feature35', 'feature94',\n",
    "       'feature74', 'feature79', 'feature76', 'feature70', 'feature93',\n",
    "       'feature77', 'feature64', 'feature97', 'feature92', 'feature6',\n",
    "       'feature72', 'feature73', 'feature78', 'feature80', 'feature96']"
   ],
   "metadata": {
    "collapsed": false
   }
  },
  {
   "cell_type": "code",
   "execution_count": 22,
   "outputs": [],
   "source": [
    "# high cardinality features: 1, 2, 3, 8, 9, 10, 21, 33, 36, 47, 49, 50, 51, 52, 53, 54, 59, 60, 66, 71\n",
    "high_cardinality_features = [\"feature1\", \"feature2\", \"feature3\", \"feature8\", \"feature9\", \"feature10\", \"feature21\", \"feature33\", \"feature36\", \"feature47\", \"feature49\", \"feature50\", \"feature51\", \"feature52\", \"feature53\", \"feature54\", \"feature59\", \"feature60\", \"feature66\", \"feature71\"]\n",
    "\n",
    "# sparse features: 8, 28, 29, 56, 68, 70, 71, 72, 73, 74, 75, 76, 77, 79, 92, 93, 94, 95, 96, 97\n",
    "sparse_features = [\"feature8\", \"feature28\", \"feature29\", \"feature56\", \"feature68\", \"feature70\", \"feature71\", \"feature72\", \"feature73\", \"feature74\", \"feature75\", \"feature76\", \"feature77\", \"feature79\", \"feature92\", \"feature93\", \"feature94\", \"feature95\", \"feature96\", \"feature97\"]\n",
    "\n",
    "# one unique value features: 70, 92, 93, 94, 95, 96, 97\n",
    "useless_features = [\"feature70\", \"feature92\", \"feature93\", \"feature94\", \"feature95\", \"feature96\", \"feature97\"]"
   ],
   "metadata": {
    "collapsed": false
   }
  },
  {
   "cell_type": "code",
   "execution_count": 23,
   "outputs": [
    {
     "name": "stdout",
     "output_type": "stream",
     "text": [
      "High cardinality features ranks:\n",
      "feature1 is on 38 place\n",
      "feature2 is on 51 place\n",
      "feature3 is on 55 place\n",
      "feature8 is on 34 place\n",
      "feature9 is on 36 place\n",
      "feature10 is on 53 place\n",
      "feature21 is on 59 place\n",
      "feature33 is on 22 place\n",
      "feature36 is on 74 place\n",
      "feature47 is on 80 place\n",
      "feature49 is on 54 place\n",
      "feature50 is on 33 place\n",
      "feature51 is on 75 place\n",
      "feature52 is on 64 place\n",
      "feature53 is on 62 place\n",
      "feature54 is on 79 place\n",
      "feature59 is on 67 place\n",
      "feature60 is on 20 place\n",
      "feature66 is on 78 place\n",
      "feature71 is on 66 place\n",
      "\n",
      "Sparse features ranks:\n",
      "feature8 is on 34 place\n",
      "feature28 is on 71 place\n",
      "feature29 is on 50 place\n",
      "feature56 is on 4 place\n",
      "feature68 is on 24 place\n",
      "feature70 is on 88 place\n",
      "feature71 is on 66 place\n",
      "feature72 is on 95 place\n",
      "feature73 is on 96 place\n",
      "feature74 is on 85 place\n",
      "feature75 is on 76 place\n",
      "feature76 is on 87 place\n",
      "feature77 is on 90 place\n",
      "feature79 is on 86 place\n",
      "feature92 is on 93 place\n",
      "feature93 is on 89 place\n",
      "feature94 is on 84 place\n",
      "feature95 is on 81 place\n",
      "feature96 is on 99 place\n",
      "feature97 is on 92 place\n",
      "\n",
      "Useless features ranks:\n",
      "feature70 is on 88 place\n",
      "feature92 is on 93 place\n",
      "feature93 is on 89 place\n",
      "feature94 is on 84 place\n",
      "feature95 is on 81 place\n",
      "feature96 is on 99 place\n",
      "feature97 is on 92 place\n"
     ]
    }
   ],
   "source": [
    "# check in which place are those features\n",
    "\n",
    "print(\"High cardinality features ranks:\")\n",
    "high_cardinality_features_ranks = []\n",
    "for i, feature in enumerate(high_cardinality_features):\n",
    "    print(f\"{feature} is on {ranking.index(feature)} place\")\n",
    "    high_cardinality_features_ranks.append(ranking.index(feature))\n",
    "\n",
    "print(\"\\nSparse features ranks:\")\n",
    "sparse_features_ranks = []\n",
    "for i, feature in enumerate(sparse_features):\n",
    "    print(f\"{feature} is on {ranking.index(feature)} place\")\n",
    "    sparse_features_ranks.append(ranking.index(feature))\n",
    "\n",
    "print(\"\\nUseless features ranks:\")\n",
    "useless_features_ranks = []\n",
    "for i, feature in enumerate(useless_features):\n",
    "    print(f\"{feature} is on {ranking.index(feature)} place\")\n",
    "    useless_features_ranks.append(ranking.index(feature))\n"
   ],
   "metadata": {
    "collapsed": false
   }
  },
  {
   "cell_type": "code",
   "execution_count": 24,
   "outputs": [
    {
     "name": "stdout",
     "output_type": "stream",
     "text": [
      "Avg rank of high cardinality features: 55.0\n",
      "Highest rank of high cardinality features: 20\n",
      "Lowest rank of high cardinality features: 80\n",
      "\n",
      "Avg rank of sparse features: 74.5\n",
      "Highest rank of sparse features: 4\n",
      "Lowest rank of sparse features: 99\n",
      "\n",
      "Avg rank of useless features: 89.42857142857143\n",
      "Highest rank of useless features: 81\n",
      "Lowest rank of useless features: 99\n"
     ]
    }
   ],
   "source": [
    "print(f\"Avg rank of high cardinality features: {sum(high_cardinality_features_ranks)/len(high_cardinality_features_ranks)}\")\n",
    "print(f\"Highest rank of high cardinality features: {min(high_cardinality_features_ranks)}\")\n",
    "print(f\"Lowest rank of high cardinality features: {max(high_cardinality_features_ranks)}\")\n",
    "\n",
    "print(f\"\\nAvg rank of sparse features: {sum(sparse_features_ranks)/len(sparse_features_ranks)}\")\n",
    "print(f\"Highest rank of sparse features: {min(sparse_features_ranks)}\")\n",
    "print(f\"Lowest rank of sparse features: {max(sparse_features_ranks)}\")\n",
    "\n",
    "print(f\"\\nAvg rank of useless features: {sum(useless_features_ranks)/len(useless_features_ranks)}\")\n",
    "print(f\"Highest rank of useless features: {min(useless_features_ranks)}\")\n",
    "print(f\"Lowest rank of useless features: {max(useless_features_ranks)}\")\n"
   ],
   "metadata": {
    "collapsed": false
   }
  },
  {
   "cell_type": "code",
   "execution_count": null,
   "outputs": [],
   "source": [],
   "metadata": {
    "collapsed": false
   }
  },
  {
   "cell_type": "markdown",
   "source": [
    "High cardinality features are distributed in the middle of the ranking (avg 55), the highest rank is 20.\n",
    "\n",
    "Sparse features are distributed in the end of the ranking (avg 75), but the highest rank is 4! So it is hardly arguable to remove them.\n",
    "\n",
    "Useless features are distributed in the end of the ranking (avg 89), the highest rank is 81. As expected, they are not important and can be removed."
   ],
   "metadata": {
    "collapsed": false
   }
  },
  {
   "cell_type": "code",
   "execution_count": null,
   "outputs": [],
   "source": [],
   "metadata": {
    "collapsed": false
   }
  },
  {
   "cell_type": "code",
   "execution_count": null,
   "outputs": [],
   "source": [],
   "metadata": {
    "collapsed": false
   }
  }
 ],
 "metadata": {
  "kernelspec": {
   "display_name": "Python 3",
   "language": "python",
   "name": "python3"
  },
  "language_info": {
   "codemirror_mode": {
    "name": "ipython",
    "version": 2
   },
   "file_extension": ".py",
   "mimetype": "text/x-python",
   "name": "python",
   "nbconvert_exporter": "python",
   "pygments_lexer": "ipython2",
   "version": "2.7.6"
  }
 },
 "nbformat": 4,
 "nbformat_minor": 0
}
