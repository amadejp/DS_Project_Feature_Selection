{
 "cells": [
  {
   "cell_type": "code",
   "execution_count": null,
   "outputs": [],
   "source": [
    "import pandas as pd\n",
    "import numpy as np\n",
    "import importlib\n",
    "\n",
    "import rank_eval_pipeline as rep\n",
    "import rank_algos\n",
    "import eval_algos\n",
    "\n",
    "%load_ext autoreload\n",
    "%autoreload 2"
   ],
   "metadata": {
    "collapsed": false
   }
  },
  {
   "cell_type": "code",
   "execution_count": null,
   "outputs": [],
   "source": [
    "data = pd.read_csv('data/full_data.csv')\n",
    "data = data.head(100)"
   ],
   "metadata": {
    "collapsed": false
   }
  },
  {
   "cell_type": "code",
   "execution_count": 13,
   "outputs": [],
   "source": [
    "rank_method = rank_algos.mutual_info_score\n",
    "eval_method = eval_algos.fuzzy_jaccard\n",
    "\n",
    "rank_eval = rep.RankEval(data, rank_method, eval_method)"
   ],
   "metadata": {
    "collapsed": false
   }
  },
  {
   "cell_type": "markdown",
   "source": [
    "### Mutual info results (on all data)"
   ],
   "metadata": {
    "collapsed": false
   }
  },
  {
   "cell_type": "code",
   "execution_count": null,
   "outputs": [],
   "source": [
    "# mutual info on full data results:\n",
    "results = np.array([0.09717625, 0.06888329, 0.06126243, 0.06269187, 0.17329753, 0.14716816\n",
    "        , 0.19778081, 0.07532905, 0.0766885, 0.06631544, 0.06275608, 0.04218489\n",
    "        , 0.15705678, 0.13656907, 0.19607233, 0.20788328, 0.23036554, 0.10723845\n",
    "        , 0.05922656, 0.06632573, 0.07530304, 0.0628231, 0.0557336, 0.08918849\n",
    "        , 0.20410476, 0.13251569, 0.05500895, 0.18283456, 0.02394768, 0.03650781\n",
    "        , 0.07144077, 0.15222733, 0.18366797, 0.06169769, 0.00195838, 0.18430796\n",
    "        , 0.14075448, 0.1427426, 0.12788617, 0.17901007, 0.17435444, 0.1229047\n",
    "        , 0.13191568, 0.09527463, 0.0694764, 0.14802611, 0.12330489, 0.12995531\n",
    "        , 0.16931972, 0.08140305, 0.11965908, 0.11227323, 0.10220764, 0.17162563\n",
    "        , 0.14953368, 0.06142728, 0.1352397, 0.06594784, 0.06246859, 0.01162358\n",
    "        , 0.06505164, 0.11061847, 0.15131267, 0.09317203, 0.10165634, 0.15379381\n",
    "        , 0.16504244, 0.11004817, 0.10467595, 0.04368644, 0.24423437, 0.03381416\n",
    "        , 0.21592521, 0.17266281, 0.22476187, 0.21147982, 0.25214441, 0.1834268\n",
    "        , 0.20025225, 0.21258738, 0.2518063, 0.04038459, 0.07872028, 0.05843621\n",
    "        , 0.05958591, 0.08510234, 0.06077662, 0.07338735, 0.06669493, 0.06683989\n",
    "        , 0.19029739, 0.18159669, 0.17475133, 0.18460458, 0.21162839, 0.22964289\n",
    "        , 0.20058981, 0.20365378, 0.53797382, 0.70876002])"
   ],
   "metadata": {
    "collapsed": false
   }
  },
  {
   "cell_type": "code",
   "execution_count": 14,
   "outputs": [],
   "source": [
    "gds = eval_algos.get_ground_truths()\n",
    "\n",
    "gd_singles = gds[0][\"rig\"].to_numpy().astype(float)\n",
    "gd_first_gen = gds[1][\"rig\"].to_numpy().astype(float)\n",
    "\n",
    "# add min value to gd_singles to make it positive\n",
    "gd_singles = gd_singles + abs(gd_singles.min())\n",
    "gd_first_gen = gd_first_gen + abs(gd_first_gen.min())"
   ],
   "metadata": {
    "collapsed": false
   }
  },
  {
   "cell_type": "code",
   "execution_count": 15,
   "outputs": [
    {
     "data": {
      "text/plain": "(0.8635530367032218, 0.7392145047450169)"
     },
     "execution_count": 15,
     "metadata": {},
     "output_type": "execute_result"
    }
   ],
   "source": [
    "importlib.reload(rep)\n",
    "\n",
    "rank_eval.df_scores = results\n",
    "rank_eval.ground_truth_singles = gd_singles\n",
    "rank_eval.ground_truth_first_gen = gd_first_gen\n",
    "\n",
    "rank_eval.evaluate(eval_only=True)"
   ],
   "metadata": {
    "collapsed": false
   }
  },
  {
   "cell_type": "code",
   "execution_count": 16,
   "outputs": [
    {
     "name": "stdout",
     "output_type": "stream",
     "text": [
      "       score  feature\n",
      "0   0.097176        0\n",
      "1   0.068883        1\n",
      "2   0.061262        2\n",
      "3   0.062692        3\n",
      "4   0.173298        4\n",
      "..       ...      ...\n",
      "95  0.229643       95\n",
      "96  0.200590       96\n",
      "97  0.203654       97\n",
      "98  0.537974       98\n",
      "99  0.708760       99\n",
      "\n",
      "[100 rows x 2 columns]\n",
      "   change       rig\n",
      "0      98  0.940000\n",
      "1      99  0.940000\n",
      "0      23  0.763097\n",
      "1      12  0.763097\n",
      "2      10  0.759176\n",
      "3      21  0.754557\n",
      "4      16  0.752791\n",
      "5      19  0.751879\n",
      "6      15  0.751157\n",
      "7      49  0.750405\n",
      "   change                  rig\n",
      "0      99   0.9985502828799538\n",
      "1      98   0.9985502828799538\n",
      "2      23  0.23865014720115485\n",
      "3      22   0.1873707610194254\n",
      "4      86  0.18647041667281428\n",
      "5      85   0.1864668119884656\n",
      "6      88  0.18645454168679054\n",
      "7      89  0.18645454168679054\n",
      "8      87  0.18645454168679054\n",
      "9      84   0.1861464287539384\n",
      "      score  feature\n",
      "0  0.097176        0\n",
      "1  0.068883        1\n",
      "2  0.061262        2\n",
      "3  0.062692        3\n",
      "4  0.173298        4\n",
      "5  0.147168        5\n",
      "6  0.197781        6\n",
      "7  0.075329        7\n",
      "8  0.076689        8\n",
      "9  0.066315        9\n"
     ]
    }
   ],
   "source": [
    "importlib.reload(eval_algos)\n",
    "\n",
    "gds = eval_algos.get_ground_truths_ordered()\n",
    "\n",
    "gd_singles = gds[0][:10]\n",
    "gd_first_gen = gds[1][:10]\n",
    "\n",
    "# add feature names to results\n",
    "results = pd.DataFrame(results, columns=[\"score\"])\n",
    "results[\"feature\"] = range(0, len(results))\n",
    "print(results)\n",
    "\n",
    "print(gd_singles)\n",
    "print(gd_first_gen)\n",
    "print(results[:10])"
   ],
   "metadata": {
    "collapsed": false
   }
  },
  {
   "cell_type": "code",
   "execution_count": 17,
   "outputs": [
    {
     "name": "stdout",
     "output_type": "stream",
     "text": [
      "0.7004396806244233\n",
      "0.6393842363753732\n"
     ]
    }
   ],
   "source": [
    "a_singles = gd_singles[\"rig\"].to_numpy(float)\n",
    "a_first_gen = gd_first_gen[\"rig\"].to_numpy(float)\n",
    "\n",
    "b_singles = results[:10][\"feature\"].to_numpy(float)\n",
    "b_first_gen = results[:10][\"feature\"].to_numpy(float)\n",
    "\n",
    "print(eval_algos.fuzzy_jaccard(a_singles, b_singles)[1])\n",
    "print(eval_algos.fuzzy_jaccard(a_first_gen, b_first_gen)[1])"
   ],
   "metadata": {
    "collapsed": false
   }
  },
  {
   "cell_type": "markdown",
   "source": [
    "### ReliefF results"
   ],
   "metadata": {
    "collapsed": false
   }
  },
  {
   "cell_type": "code",
   "execution_count": 41,
   "outputs": [],
   "source": [
    "def results_transform(results: dict):\n",
    " results_pd = pd.DataFrame.from_dict(results, orient='index')      # change dict to pd dataframe\n",
    " results_pd = results_pd.sort_index()      # sort by index\n",
    " results_pd = results_pd.astype(float)      # change type to float\n",
    " results_pd = results_pd + abs(results_pd.min())     # change negative values to positive\n",
    "\n",
    " return results_pd\n",
    "\n",
    "def prepare_gd():\n",
    " gds = eval_algos.get_ground_truths()\n",
    "\n",
    " gd_singles = gds[0][\"rig\"].to_numpy().astype(float)\n",
    " gd_first_gen = gds[1][\"rig\"].to_numpy().astype(float)\n",
    "\n",
    " gd_singles = gd_singles + abs(gd_singles.min())\n",
    " gd_first_gen = gd_first_gen + abs(gd_first_gen.min())\n",
    "\n",
    " return gd_singles, gd_first_gen\n",
    "\n",
    "def evaluate_results(results_pd, gd_singles, gd_first_gen):\n",
    " rank_eval.df_scores = results_pd[0].to_numpy().astype(float)\n",
    " rank_eval.ground_truth_singles = gd_singles\n",
    " rank_eval.ground_truth_first_gen = gd_first_gen\n",
    "\n",
    " return rank_eval.evaluate(eval_only=True)"
   ],
   "metadata": {
    "collapsed": false
   }
  },
  {
   "cell_type": "code",
   "execution_count": null,
   "outputs": [],
   "source": [
    "relieff_promil = {99: 157200.0,\n",
    " 98: 157200.0,\n",
    " 6: 98138.0,\n",
    " 74: 98138.0,\n",
    " 75: 98138.0,\n",
    " 76: 98138.0,\n",
    " 77: 98138.0,\n",
    " 78: 98138.0,\n",
    " 79: 77578.0,\n",
    " 80: 78786.0,\n",
    " 70: -88722.0,\n",
    " 73: -88722.0,\n",
    " 92: -88722.0,\n",
    " 93: -88722.0,\n",
    " 94: -88722.0,\n",
    " 95: -88726.0,\n",
    " 96: -88718.0,\n",
    " 97: -88636.0,\n",
    " 72: -88146.0,\n",
    " 16: 98138.0,\n",
    " 34: 98138.0,\n",
    " 35: 98138.0,\n",
    " 14: 98138.0,\n",
    " 48: 98138.0,\n",
    " 27: 98138.0,\n",
    " 90: 98138.0,\n",
    " 32: 98138.0,\n",
    " 15: 96842.0,\n",
    " 91: -25630.0,\n",
    " 24: 98138.0,\n",
    " 4: 10452.0,\n",
    " 39: 7998.0,\n",
    " 25: -14532.0,\n",
    " 42: 36396.0,\n",
    " 40: 42478.0,\n",
    " 65: -22012.0,\n",
    " 62: -15334.0,\n",
    " 53: 40912.0,\n",
    " 37: 18610.0,\n",
    " 38: -82762.0,\n",
    " 36: 5904.0,\n",
    " 5: -86480.0,\n",
    " 66: -94110.0,\n",
    " 28: 14004.0,\n",
    " 12: -93936.0,\n",
    " 45: 20234.0,\n",
    " 13: 40816.0,\n",
    " 54: 18148.0,\n",
    " 46: 9612.0,\n",
    " 61: -484.0,\n",
    " 52: -52750.0,\n",
    " 31: 82902.0,\n",
    " 47: 16064.0,\n",
    " 56: 18654.0,\n",
    " 41: 29386.0,\n",
    " 69: -72916.0,\n",
    " 51: 3936.0,\n",
    " 68: 56116.0,\n",
    " 59: 10962.0,\n",
    " 43: 55094.0,\n",
    " 50: 56562.0,\n",
    " 11: 40414.0,\n",
    " 67: 40748.0,\n",
    " 63: 38318.0,\n",
    " 64: 84274.0,\n",
    " 71: 87800.0,\n",
    " 30: -98130.0,\n",
    " 17: 78704.0,\n",
    " 29: 17346.0,\n",
    " 49: -35198.0,\n",
    " 18: -45148.0,\n",
    " 26: 30502.0,\n",
    " 0: 82826.0,\n",
    " 7: -63702.0,\n",
    " 44: 56232.0,\n",
    " 20: 66908.0,\n",
    " 8: -85698.0,\n",
    " 9: -93780.0,\n",
    " 19: -92534.0,\n",
    " 60: -74840.0,\n",
    " 23: -81542.0,\n",
    " 58: -56948.0,\n",
    " 81: -41030.0,\n",
    " 82: 93800.0,\n",
    " 83: 78222.0,\n",
    " 85: 82956.0,\n",
    " 86: 26508.0,\n",
    " 87: 30282.0,\n",
    " 88: -14068.0,\n",
    " 89: -93778.0,\n",
    " 84: -80580.0,\n",
    " 1: -80578.0,\n",
    " 21: -70330.0,\n",
    " 10: 98138.0,\n",
    " 22: 38122.0,\n",
    " 55: 56834.0,\n",
    " 57: -94806.0,\n",
    " 3: -96098.0,\n",
    " 2: -92044.0,\n",
    " 33: -64788.0}\n",
    "\n",
    "relieff_procent = {99: 1572800.0,\n",
    " 98: 1572800.0,\n",
    " 75: 1097214.0,\n",
    " 77: 1097214.0,\n",
    " 78: 1097214.0,\n",
    " 79: 1097214.0,\n",
    " 80: 1097214.0,\n",
    " 74: 1097214.0,\n",
    " 73: 912950.0,\n",
    " 70: 940584.0,\n",
    " 76: -990000.0,\n",
    " 92: -990000.0,\n",
    " 93: -990000.0,\n",
    " 94: -989994.0,\n",
    " 95: -990000.0,\n",
    " 96: -989960.0,\n",
    " 97: -989932.0,\n",
    " 6: -989538.0,\n",
    " 72: -982026.0,\n",
    " 16: 1097214.0,\n",
    " 34: 1097214.0,\n",
    " 14: 1097214.0,\n",
    " 90: 1097214.0,\n",
    " 32: 1097214.0,\n",
    " 35: 1097214.0,\n",
    " 91: 1097214.0,\n",
    " 48: 1097214.0,\n",
    " 27: 1077812.0,\n",
    " 15: -120804.0,\n",
    " 24: 1097214.0,\n",
    " 4: 210694.0,\n",
    " 39: 241728.0,\n",
    " 42: -85136.0,\n",
    " 40: 438014.0,\n",
    " 25: 545664.0,\n",
    " 62: -127670.0,\n",
    " 65: -33552.0,\n",
    " 45: 584622.0,\n",
    " 5: 444442.0,\n",
    " 53: -862940.0,\n",
    " 28: 89444.0,\n",
    " 13: -945620.0,\n",
    " 31: -1048056.0,\n",
    " 61: 395596.0,\n",
    " 37: -993510.0,\n",
    " 66: 299750.0,\n",
    " 38: 498046.0,\n",
    " 36: 255932.0,\n",
    " 12: 165972.0,\n",
    " 56: -4156.0,\n",
    " 54: -562128.0,\n",
    " 52: 906466.0,\n",
    " 46: 206042.0,\n",
    " 68: 249064.0,\n",
    " 69: 516584.0,\n",
    " 47: -572368.0,\n",
    " 51: 165628.0,\n",
    " 43: 686630.0,\n",
    " 41: 156432.0,\n",
    " 59: 661390.0,\n",
    " 50: 695066.0,\n",
    " 63: 433542.0,\n",
    " 11: 441630.0,\n",
    " 67: 408366.0,\n",
    " 71: 935474.0,\n",
    " 64: 985724.0,\n",
    " 30: -1096884.0,\n",
    " 17: 938548.0,\n",
    " 29: 456018.0,\n",
    " 26: -233278.0,\n",
    " 18: -328524.0,\n",
    " 49: 497980.0,\n",
    " 44: 902202.0,\n",
    " 0: -456852.0,\n",
    " 7: 622916.0,\n",
    " 8: 792492.0,\n",
    " 9: -928200.0,\n",
    " 20: -1039468.0,\n",
    " 19: -942056.0,\n",
    " 60: -749604.0,\n",
    " 1: -792516.0,\n",
    " 23: -557236.0,\n",
    " 10: -314724.0,\n",
    " 21: 1042880.0,\n",
    " 58: 875246.0,\n",
    " 3: 971768.0,\n",
    " 81: 491172.0,\n",
    " 82: 407722.0,\n",
    " 83: -72348.0,\n",
    " 84: -935652.0,\n",
    " 86: -730650.0,\n",
    " 85: -729920.0,\n",
    " 87: -663996.0,\n",
    " 88: 1095702.0,\n",
    " 89: 504550.0,\n",
    " 55: 732768.0,\n",
    " 2: -975644.0,\n",
    " 22: -1009346.0,\n",
    " 57: -890614.0,\n",
    " 33: -592118.0}\n",
    "\n",
    "relieff_10procentov = {99: 15728700.0,\n",
    " 98: 15728700.0,\n",
    " 70: 12141824.0,\n",
    " 97: 12141824.0,\n",
    " 96: 12141824.0,\n",
    " 95: 12141824.0,\n",
    " 94: 12141824.0,\n",
    " 93: 12141824.0,\n",
    " 92: 10619714.0,\n",
    " 75: 10998412.0,\n",
    " 76: -10736482.0,\n",
    " 77: -10736482.0,\n",
    " 78: -10736482.0,\n",
    " 79: -10736450.0,\n",
    " 80: -10736482.0,\n",
    " 74: -10735960.0,\n",
    " 73: -10735508.0,\n",
    " 6: -10729812.0,\n",
    " 72: -10646330.0,\n",
    " 16: 12140002.0,\n",
    " 14: 12140002.0,\n",
    " 90: 12140002.0,\n",
    " 32: 12140002.0,\n",
    " 34: 12140002.0,\n",
    " 91: 12140002.0,\n",
    " 48: 12140002.0,\n",
    " 35: 12140002.0,\n",
    " 27: 11937076.0,\n",
    " 15: 294892.0,\n",
    " 24: 12141824.0,\n",
    " 4: 3511436.0,\n",
    " 39: 4447360.0,\n",
    " 42: -385500.0,\n",
    " 25: 5024478.0,\n",
    " 31: 6476978.0,\n",
    " 62: -749820.0,\n",
    " 40: 409780.0,\n",
    " 45: 7294686.0,\n",
    " 5: 6092582.0,\n",
    " 13: -9142888.0,\n",
    " 65: 1344154.0,\n",
    " 56: -10098828.0,\n",
    " 28: -11472552.0,\n",
    " 61: 6377216.0,\n",
    " 53: -10105972.0,\n",
    " 12: 4312314.0,\n",
    " 37: 5435600.0,\n",
    " 66: 3541550.0,\n",
    " 38: 2856160.0,\n",
    " 36: 187390.0,\n",
    " 68: -5752988.0,\n",
    " 54: 10371082.0,\n",
    " 43: 2326250.0,\n",
    " 52: 3004622.0,\n",
    " 69: 7096854.0,\n",
    " 46: -2314792.0,\n",
    " 51: 3789598.0,\n",
    " 47: 7698936.0,\n",
    " 41: 1915902.0,\n",
    " 59: 7234264.0,\n",
    " 63: 7834936.0,\n",
    " 71: 4934584.0,\n",
    " 50: 5056292.0,\n",
    " 11: 4469552.0,\n",
    " 67: 10337318.0,\n",
    " 64: 10849062.0,\n",
    " 17: -12131116.0,\n",
    " 26: 10970072.0,\n",
    " 30: 7390012.0,\n",
    " 44: -1683034.0,\n",
    " 29: -2719398.0,\n",
    " 0: 6222192.0,\n",
    " 18: 10298882.0,\n",
    " 7: -1228896.0,\n",
    " 8: 7558094.0,\n",
    " 9: 8911430.0,\n",
    " 49: -9883166.0,\n",
    " 20: -11361618.0,\n",
    " 19: -8282190.0,\n",
    " 1: -6214150.0,\n",
    " 10: -6573784.0,\n",
    " 21: -4255182.0,\n",
    " 3: -1095396.0,\n",
    " 2: 11384942.0,\n",
    " 60: 9499810.0,\n",
    " 23: 11112332.0,\n",
    " 58: 6534996.0,\n",
    " 55: 5188838.0,\n",
    " 81: -74320.0,\n",
    " 82: -7462824.0,\n",
    " 83: -4925592.0,\n",
    " 84: -4918006.0,\n",
    " 86: -4482190.0,\n",
    " 87: 12115218.0,\n",
    " 88: 6813108.0,\n",
    " 89: 8871874.0,\n",
    " 85: -8396194.0,\n",
    " 22: -9119718.0,\n",
    " 57: -6747704.0,\n",
    " 33: -3857856.0}"
   ],
   "metadata": {
    "collapsed": false
   }
  },
  {
   "cell_type": "code",
   "execution_count": 43,
   "outputs": [
    {
     "data": {
      "text/plain": "           0\n0   180956.0\n1    17552.0\n2     6086.0\n3     2032.0\n4   108582.0\n..       ...\n95    9404.0\n96    9412.0\n97    9494.0\n98  255330.0\n99  255330.0\n\n[100 rows x 1 columns]",
      "text/html": "<div>\n<style scoped>\n    .dataframe tbody tr th:only-of-type {\n        vertical-align: middle;\n    }\n\n    .dataframe tbody tr th {\n        vertical-align: top;\n    }\n\n    .dataframe thead th {\n        text-align: right;\n    }\n</style>\n<table border=\"1\" class=\"dataframe\">\n  <thead>\n    <tr style=\"text-align: right;\">\n      <th></th>\n      <th>0</th>\n    </tr>\n  </thead>\n  <tbody>\n    <tr>\n      <th>0</th>\n      <td>180956.0</td>\n    </tr>\n    <tr>\n      <th>1</th>\n      <td>17552.0</td>\n    </tr>\n    <tr>\n      <th>2</th>\n      <td>6086.0</td>\n    </tr>\n    <tr>\n      <th>3</th>\n      <td>2032.0</td>\n    </tr>\n    <tr>\n      <th>4</th>\n      <td>108582.0</td>\n    </tr>\n    <tr>\n      <th>...</th>\n      <td>...</td>\n    </tr>\n    <tr>\n      <th>95</th>\n      <td>9404.0</td>\n    </tr>\n    <tr>\n      <th>96</th>\n      <td>9412.0</td>\n    </tr>\n    <tr>\n      <th>97</th>\n      <td>9494.0</td>\n    </tr>\n    <tr>\n      <th>98</th>\n      <td>255330.0</td>\n    </tr>\n    <tr>\n      <th>99</th>\n      <td>255330.0</td>\n    </tr>\n  </tbody>\n</table>\n<p>100 rows × 1 columns</p>\n</div>"
     },
     "execution_count": 43,
     "metadata": {},
     "output_type": "execute_result"
    }
   ],
   "source": [
    "relieff_promil_pd = results_transform(relieff_promil)\n",
    "relieff_procent_pd = results_transform(relieff_procent)\n",
    "relieff_10procentov_pd = results_transform(relieff_10procentov)\n",
    "\n",
    "relieff_promil_pd"
   ],
   "metadata": {
    "collapsed": false
   }
  },
  {
   "cell_type": "code",
   "execution_count": 39,
   "outputs": [],
   "source": [
    "gd_singles, gd_first_gen = prepare_gd()"
   ],
   "metadata": {
    "collapsed": false
   }
  },
  {
   "cell_type": "code",
   "execution_count": 44,
   "outputs": [
    {
     "name": "stdout",
     "output_type": "stream",
     "text": [
      "relieff_promil_evaluated: (0.8224700130720496, 0.744032342866586)\n",
      "relieff_procent_evaluated: (0.8370984227548818, 0.733525658248738)\n",
      "relieff_10procentov_evaluated: (0.8514649310560692, 0.7461393376478086)\n"
     ]
    }
   ],
   "source": [
    "relieff_promil_evaluated = evaluate_results(relieff_promil_pd, gd_singles, gd_first_gen)\n",
    "relieff_procent_evaluated = evaluate_results(relieff_procent_pd, gd_singles, gd_first_gen)\n",
    "relieff_10procentov_evaluated = evaluate_results(relieff_10procentov_pd, gd_singles, gd_first_gen)\n",
    "\n",
    "print(f\"relieff_promil_evaluated: {relieff_promil_evaluated}\")\n",
    "print(f\"relieff_procent_evaluated: {relieff_procent_evaluated}\")\n",
    "print(f\"relieff_10procentov_evaluated: {relieff_10procentov_evaluated}\")"
   ],
   "metadata": {
    "collapsed": false
   }
  },
  {
   "cell_type": "code",
   "execution_count": null,
   "outputs": [],
   "source": [],
   "metadata": {
    "collapsed": false
   }
  }
 ],
 "metadata": {
  "kernelspec": {
   "display_name": "Python 3",
   "language": "python",
   "name": "python3"
  },
  "language_info": {
   "codemirror_mode": {
    "name": "ipython",
    "version": 2
   },
   "file_extension": ".py",
   "mimetype": "text/x-python",
   "name": "python",
   "nbconvert_exporter": "python",
   "pygments_lexer": "ipython2",
   "version": "2.7.6"
  }
 },
 "nbformat": 4,
 "nbformat_minor": 0
}
